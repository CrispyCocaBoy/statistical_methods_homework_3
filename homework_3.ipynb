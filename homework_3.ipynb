{
 "cells": [
  {
   "cell_type": "markdown",
   "id": "66780cf5cf228ed3",
   "metadata": {},
   "source": [
    "# Leukemia patient classifier\n"
   ]
  },
  {
   "cell_type": "markdown",
   "id": "853f5a350a13f7c4",
   "metadata": {},
   "source": [
    "## Introduction\n",
    "This project focuses on classifying leukemia patients into two subgroups based on gene expression data: those with a chromosomal translocation (1) and those cytogenetically normal (-1). The dataset includes 79 patients and expression levels for 2,000 genes.\n",
    "\n",
    "We apply supervised learning using Support Vector Machines (SVMs) to predict patient subgroups. Multiple kernel types (linear, polynomial, RBF) are tested with hyperparameter tuning via cross-validation. Additionally, we explore filtering the top 5% most variable genes to reduce noise and improve model performance."
   ]
  },
  {
   "cell_type": "code",
   "id": "initial_id",
   "metadata": {
    "ExecuteTime": {
     "end_time": "2025-05-12T10:48:15.227228Z",
     "start_time": "2025-05-12T10:48:15.224981Z"
    }
   },
   "source": [
    "import numpy as np\n",
    "from matplotlib import pyplot as plt  # import subplots, cm\n",
    "import sklearn.model_selection as skm\n",
    "import pandas as pd\n",
    "import seaborn as sns\n"
   ],
   "outputs": [],
   "execution_count": 137
  },
  {
   "cell_type": "markdown",
   "id": "991f35dd72880268",
   "metadata": {},
   "source": [
    "We begin by splitting the data into training and test sets using scikit-learn, allocating 20% of the data for testing. Each model is then trained and evaluated on the training set using cross-validation to ensure robust performance estimation."
   ]
  },
  {
   "cell_type": "code",
   "id": "22767c949e9654a6",
   "metadata": {
    "ExecuteTime": {
     "end_time": "2025-05-12T10:48:15.299956Z",
     "start_time": "2025-05-12T10:48:15.267352Z"
    }
   },
   "source": [
    "# Dataset\n",
    "data = pd.read_csv(\"gene_expr.tsv\", sep=\"\\t\")\n",
    "\n",
    "# Division X and Y\n",
    "X = data.drop(columns=[\"y\", \"sampleID\"])  # Remove sampleID\n",
    "y = data[\"y\"]\n",
    "\n",
    "# split in train e validation\n",
    "from sklearn.model_selection import train_test_split\n",
    "X_train, X_test, y_train, y_test = train_test_split(X, y, test_size=0.2, random_state=0, stratify=y)\n",
    "\n"
   ],
   "outputs": [],
   "execution_count": 138
  },
  {
   "cell_type": "code",
   "id": "cef77323b3b14e61",
   "metadata": {
    "ExecuteTime": {
     "end_time": "2025-05-12T10:48:15.339995Z",
     "start_time": "2025-05-12T10:48:15.304681Z"
    }
   },
   "source": [
    "# Check the balanced\n",
    "plt.hist(y, bins=[-1.5, -0.5, 0.5, 1.5], edgecolor='black', align='mid', rwidth=0.8)\n",
    "# Etichette asse x personalizzate\n",
    "plt.xticks([-1, 1], labels=['-1', '1'])\n",
    "plt.xlabel('Class')\n",
    "plt.ylabel('Frequency')\n",
    "plt.title('Distribution of (y)')\n",
    "plt.grid(True)\n",
    "plt.show()"
   ],
   "outputs": [
    {
     "data": {
      "text/plain": [
       "<Figure size 640x480 with 1 Axes>"
      ],
      "image/png": "[encoded data removed]"
     },
     "metadata": {},
     "output_type": "display_data"
    }
   ],
   "execution_count": 139
  },
  {
   "cell_type": "code",
   "id": "5d2483d419bed67f",
   "metadata": {
    "ExecuteTime": {
     "end_time": "2025-05-12T10:48:15.371155Z",
     "start_time": "2025-05-12T10:48:15.368702Z"
    }
   },
   "source": [
    "kfold = skm.KFold(10, random_state=0, shuffle=True)"
   ],
   "outputs": [],
   "execution_count": 140
  },
  {
   "cell_type": "markdown",
   "id": "b4e30f2c8aade67f",
   "metadata": {},
   "source": [
    "### Linear fit\n",
    "We first apply a Support Vector Machine with a linear kernel, which is often a suitable baseline for high-dimensional datasets like gene expression data. The regularization parameter C is optimized using cross-validation to balance model complexity and generalization performance.\n",
    "\n"
   ]
  },
  {
   "cell_type": "code",
   "id": "cf5a663de9fc7477",
   "metadata": {
    "ExecuteTime": {
     "end_time": "2025-05-12T10:48:17.082198Z",
     "start_time": "2025-05-12T10:48:15.399329Z"
    }
   },
   "source": [
    "# linear fit\n",
    "from sklearn.pipeline import Pipeline\n",
    "from sklearn.preprocessing import StandardScaler\n",
    "from sklearn.svm import SVC\n",
    "\n",
    "linear_svm_clf = Pipeline([\n",
    "    (\"scaler\", StandardScaler()),\n",
    "    (\"svm\", SVC(kernel=\"linear\", probability=True, random_state=0)),\n",
    "])\n",
    "\n",
    "## hyperparameter tuning\n",
    "from sklearn.model_selection import GridSearchCV\n",
    "parameters = {\"svm__C\":[0.001, 0.01, 0.1, 1, 10, 100, 1000]}\n",
    "\n",
    "grid_search_linear = GridSearchCV(\n",
    "    estimator = linear_svm_clf,\n",
    "    param_grid = parameters,\n",
    "    scoring= \"accuracy\",\n",
    "    n_jobs=-1,\n",
    "    refit=\"accuracy\",\n",
    "    cv= kfold,\n",
    ")\n",
    "grid_search_linear.fit(X_train, y_train)\n",
    "svm_linear_model = grid_search_linear.best_estimator_.named_steps[\"svm\"]\n"
   ],
   "outputs": [],
   "execution_count": 141
  },
  {
   "cell_type": "markdown",
   "id": "10610b248383cfd3",
   "metadata": {},
   "source": [
    "**Model description**\n",
    "The table below summarizes the main characteristics of the best-performing linear SVM model (`svm_linear_model`):"
   ]
  },
  {
   "cell_type": "code",
   "id": "357a04dcf0986346",
   "metadata": {
    "ExecuteTime": {
     "end_time": "2025-05-12T10:48:17.115134Z",
     "start_time": "2025-05-12T10:48:17.111155Z"
    }
   },
   "source": [
    "## Metric evaluation\n",
    "import pandas as pd\n",
    "\n",
    "# Estrai i valori desiderati\n",
    "n_support_vectors = svm_linear_model.support_vectors_.shape[0]\n",
    "support_per_class = svm_linear_model.n_support_\n",
    "best_score = grid_search_linear.best_score_\n",
    "best_params = grid_search_linear.best_params_\n",
    "\n",
    "# Crea un dizionario per la tabella\n",
    "svm_summary = {\n",
    "    \"Metric\": [\n",
    "        \"Total support vectors\",\n",
    "        \"Support vectors per class\",\n",
    "        \"Best CV score (accuracy)\",\n",
    "        \"Best hyperparameters\"\n",
    "    ],\n",
    "    \"Value\": [\n",
    "        n_support_vectors,\n",
    "        support_per_class.tolist(),\n",
    "        round(best_score, 3),\n",
    "        str(best_params)\n",
    "    ]\n",
    "}\n",
    "\n",
    "# Converti in DataFrame\n",
    "svm_df = pd.DataFrame(svm_summary)\n",
    "\n",
    "# Visualizza\n",
    "svm_df\n"
   ],
   "outputs": [
    {
     "data": {
      "text/plain": [
       "                      Metric              Value\n",
       "0      Total support vectors                 57\n",
       "1  Support vectors per class           [30, 27]\n",
       "2   Best CV score (accuracy)               0.81\n",
       "3       Best hyperparameters  {'svm__C': 0.001}"
      ],
      "text/html": [
       "<div>\n",
       "<style scoped>\n",
       "    .dataframe tbody tr th:only-of-type {\n",
       "        vertical-align: middle;\n",
       "    }\n",
       "\n",
       "    .dataframe tbody tr th {\n",
       "        vertical-align: top;\n",
       "    }\n",
       "\n",
       "    .dataframe thead th {\n",
       "        text-align: right;\n",
       "    }\n",
       "</style>\n",
       "<table border=\"1\" class=\"dataframe\">\n",
       "  <thead>\n",
       "    <tr style=\"text-align: right;\">\n",
       "      <th></th>\n",
       "      <th>Metric</th>\n",
       "      <th>Value</th>\n",
       "    </tr>\n",
       "  </thead>\n",
       "  <tbody>\n",
       "    <tr>\n",
       "      <th>0</th>\n",
       "      <td>Total support vectors</td>\n",
       "      <td>57</td>\n",
       "    </tr>\n",
       "    <tr>\n",
       "      <th>1</th>\n",
       "      <td>Support vectors per class</td>\n",
       "      <td>[30, 27]</td>\n",
       "    </tr>\n",
       "    <tr>\n",
       "      <th>2</th>\n",
       "      <td>Best CV score (accuracy)</td>\n",
       "      <td>0.81</td>\n",
       "    </tr>\n",
       "    <tr>\n",
       "      <th>3</th>\n",
       "      <td>Best hyperparameters</td>\n",
       "      <td>{'svm__C': 0.001}</td>\n",
       "    </tr>\n",
       "  </tbody>\n",
       "</table>\n",
       "</div>"
      ]
     },
     "execution_count": 142,
     "metadata": {},
     "output_type": "execute_result"
    }
   ],
   "execution_count": 142
  },
  {
   "cell_type": "code",
   "id": "38c9df446a59ecb1",
   "metadata": {
    "ExecuteTime": {
     "end_time": "2025-05-12T10:48:17.150177Z",
     "start_time": "2025-05-12T10:48:17.140740Z"
    }
   },
   "source": [
    "## Predictions\n",
    "y_pred_linear = grid_search_linear.predict(X_test)\n",
    "y_pred_proba_linear = grid_search_linear.predict_proba(X_test)[:, 1]"
   ],
   "outputs": [],
   "execution_count": 143
  },
  {
   "cell_type": "code",
   "id": "11eda906c6622264",
   "metadata": {
    "ExecuteTime": {
     "end_time": "2025-05-12T10:48:17.167922Z",
     "start_time": "2025-05-12T10:48:17.165903Z"
    }
   },
   "source": [
    "## Evaluation\n",
    "from sklearn.metrics import confusion_matrix\n",
    "cm_svm_linear_model = confusion_matrix(y_test, y_pred_linear)"
   ],
   "outputs": [],
   "execution_count": 144
  },
  {
   "cell_type": "markdown",
   "id": "d71f0409a9963cfa",
   "metadata": {},
   "source": [
    "### Polynomail kernel\n",
    "We then extend the linear model by applying a polynomial kernel, which allows the SVM to capture non-linear relationships between gene expression features. Both the regularization parameter C and the polynomial degree are tuned via cross-validation."
   ]
  },
  {
   "cell_type": "code",
   "id": "d81fca34dc88b629",
   "metadata": {
    "ExecuteTime": {
     "end_time": "2025-05-12T10:48:18.155972Z",
     "start_time": "2025-05-12T10:48:17.188634Z"
    }
   },
   "source": [
    "from sklearn.pipeline import Pipeline\n",
    "from sklearn.preprocessing import StandardScaler\n",
    "\n",
    "polynoaml_svm_clf = Pipeline([\n",
    "    (\"scaler\", StandardScaler()),\n",
    "    (\"svm\", SVC(kernel=\"poly\", probability=True, random_state=0)),\n",
    "])\n",
    "\n",
    "## hyperparameter tuning\n",
    "from sklearn.model_selection import GridSearchCV\n",
    "parameters = {\"svm__C\":[0.001, 0.01, 0.1, 1, 10, 100, 1000],\n",
    "              \"svm__degree\":[1,2,3,4,5,6]}\n",
    "\n",
    "grid_search_poly = GridSearchCV(\n",
    "    estimator = polynoaml_svm_clf,\n",
    "    param_grid= parameters,\n",
    "    scoring=\"accuracy\",\n",
    "    n_jobs=-1,\n",
    "    refit=\"accuracy\",\n",
    "    cv= kfold,\n",
    ")\n",
    "grid_search_poly.fit(X_train, y_train)\n",
    "svm_polynomial_model = grid_search_poly.best_estimator_.named_steps[\"svm\"]\n"
   ],
   "outputs": [],
   "execution_count": 145
  },
  {
   "cell_type": "code",
   "id": "754964d5efa589cb",
   "metadata": {
    "ExecuteTime": {
     "end_time": "2025-05-12T10:48:18.164621Z",
     "start_time": "2025-05-12T10:48:18.161048Z"
    }
   },
   "source": [
    "## Metric evaluation\n",
    "n_support_vectors = svm_polynomial_model.support_vectors_.shape[0]\n",
    "support_per_class = svm_polynomial_model.n_support_\n",
    "best_score = grid_search_poly.best_score_\n",
    "best_params = grid_search_poly.best_params_\n",
    "\n",
    "# Crea un dizionario per la tabella\n",
    "svm_summary = {\n",
    "    \"Metric\": [\n",
    "        \"Total support vectors\",\n",
    "        \"Support vectors per class\",\n",
    "        \"Best CV score (accuracy)\",\n",
    "        \"Best hyperparameters\"\n",
    "    ],\n",
    "    \"Value\": [\n",
    "        n_support_vectors,\n",
    "        support_per_class.tolist(),\n",
    "        round(best_score, 3),\n",
    "        str(best_params)\n",
    "    ]\n",
    "}\n",
    "\n",
    "# Converti in DataFrame\n",
    "svm_df = pd.DataFrame(svm_summary)\n",
    "\n",
    "# Visualizza\n",
    "svm_df"
   ],
   "outputs": [
    {
     "data": {
      "text/plain": [
       "                      Metric                             Value\n",
       "0      Total support vectors                                55\n",
       "1  Support vectors per class                          [29, 26]\n",
       "2   Best CV score (accuracy)                             0.743\n",
       "3       Best hyperparameters  {'svm__C': 10, 'svm__degree': 1}"
      ],
      "text/html": [
       "<div>\n",
       "<style scoped>\n",
       "    .dataframe tbody tr th:only-of-type {\n",
       "        vertical-align: middle;\n",
       "    }\n",
       "\n",
       "    .dataframe tbody tr th {\n",
       "        vertical-align: top;\n",
       "    }\n",
       "\n",
       "    .dataframe thead th {\n",
       "        text-align: right;\n",
       "    }\n",
       "</style>\n",
       "<table border=\"1\" class=\"dataframe\">\n",
       "  <thead>\n",
       "    <tr style=\"text-align: right;\">\n",
       "      <th></th>\n",
       "      <th>Metric</th>\n",
       "      <th>Value</th>\n",
       "    </tr>\n",
       "  </thead>\n",
       "  <tbody>\n",
       "    <tr>\n",
       "      <th>0</th>\n",
       "      <td>Total support vectors</td>\n",
       "      <td>55</td>\n",
       "    </tr>\n",
       "    <tr>\n",
       "      <th>1</th>\n",
       "      <td>Support vectors per class</td>\n",
       "      <td>[29, 26]</td>\n",
       "    </tr>\n",
       "    <tr>\n",
       "      <th>2</th>\n",
       "      <td>Best CV score (accuracy)</td>\n",
       "      <td>0.743</td>\n",
       "    </tr>\n",
       "    <tr>\n",
       "      <th>3</th>\n",
       "      <td>Best hyperparameters</td>\n",
       "      <td>{'svm__C': 10, 'svm__degree': 1}</td>\n",
       "    </tr>\n",
       "  </tbody>\n",
       "</table>\n",
       "</div>"
      ]
     },
     "execution_count": 146,
     "metadata": {},
     "output_type": "execute_result"
    }
   ],
   "execution_count": 146
  },
  {
   "cell_type": "code",
   "id": "5d901ec3d0f6b290",
   "metadata": {
    "ExecuteTime": {
     "end_time": "2025-05-12T10:48:18.216161Z",
     "start_time": "2025-05-12T10:48:18.205244Z"
    }
   },
   "source": [
    "## Predictions\n",
    "y_pred_poly = grid_search_poly.predict(X_test)\n",
    "y_pred_proba_poly = grid_search_poly.predict_proba(X_test)[:, 1]"
   ],
   "outputs": [],
   "execution_count": 147
  },
  {
   "cell_type": "code",
   "id": "a3dd23af874ef612",
   "metadata": {
    "ExecuteTime": {
     "end_time": "2025-05-12T10:48:18.253995Z",
     "start_time": "2025-05-12T10:48:18.251587Z"
    }
   },
   "source": [
    "## Evaluation\n",
    "from sklearn.metrics import confusion_matrix\n",
    "cm_svm_polynomial_model = confusion_matrix(y_test, y_pred_poly)"
   ],
   "outputs": [],
   "execution_count": 148
  },
  {
   "cell_type": "markdown",
   "id": "67549b10504eb005",
   "metadata": {},
   "source": [
    "### Gaussian kernel\n",
    "Finally, we apply a Gaussian (RBF) kernel SVM, which is well suited for capturing complex and non-linear patterns in the data. We tune both the regularization parameter C and the kernel coefficient gamma using cross-validation."
   ]
  },
  {
   "cell_type": "code",
   "id": "c712de26f9de6609",
   "metadata": {
    "ExecuteTime": {
     "end_time": "2025-05-12T10:48:19.531613Z",
     "start_time": "2025-05-12T10:48:18.302554Z"
    }
   },
   "source": [
    "from sklearn.pipeline import Pipeline\n",
    "from sklearn.preprocessing import StandardScaler\n",
    "\n",
    "gaussian_svm_clf = Pipeline([\n",
    "    (\"scaler\", StandardScaler()),\n",
    "    (\"svm\", SVC(kernel=\"rbf\", probability=True, random_state=0)),\n",
    "])\n",
    "\n",
    "## hyperparameter tuning\n",
    "from sklearn.model_selection import GridSearchCV\n",
    "parameters = {\"svm__C\":[0.001, 0.01, 0.1, 1, 10, 100, 1000],\n",
    "              \"svm__gamma\": [0.0001, 0.001, 0.01, 0.1, 1, 10]}\n",
    "\n",
    "grid_search_gaussian = GridSearchCV(\n",
    "    estimator = gaussian_svm_clf,\n",
    "    param_grid= parameters,\n",
    "    scoring=\"accuracy\",\n",
    "    n_jobs=-1,\n",
    "    refit=\"accuracy\",\n",
    "    cv=kfold,\n",
    ")\n",
    "grid_search_gaussian.fit(X_train, y_train)\n",
    "svm_gaussian_model = grid_search_gaussian.best_estimator_.named_steps[\"svm\"]"
   ],
   "outputs": [],
   "execution_count": 149
  },
  {
   "cell_type": "code",
   "id": "adec02ca35ce2933",
   "metadata": {
    "ExecuteTime": {
     "end_time": "2025-05-12T10:48:19.540225Z",
     "start_time": "2025-05-12T10:48:19.536666Z"
    }
   },
   "source": [
    "## Metric evaluation\n",
    "n_support_vectors = svm_gaussian_model.support_vectors_.shape[0]\n",
    "support_per_class = svm_gaussian_model.n_support_\n",
    "best_score = grid_search_gaussian.best_score_\n",
    "best_params = grid_search_gaussian.best_params_\n",
    "\n",
    "# Crea un dizionario per la tabella\n",
    "svm_summary = {\n",
    "    \"Metric\": [\n",
    "        \"Total support vectors\",\n",
    "        \"Support vectors per class\",\n",
    "        \"Best CV score (accuracy)\",\n",
    "        \"Best hyperparameters\"\n",
    "    ],\n",
    "    \"Value\": [\n",
    "        n_support_vectors,\n",
    "        support_per_class.tolist(),\n",
    "        round(best_score, 3),\n",
    "        str(best_params)\n",
    "    ]\n",
    "}\n",
    "\n",
    "# Converti in DataFrame\n",
    "svm_df = pd.DataFrame(svm_summary)\n",
    "\n",
    "# Visualizza\n",
    "svm_df"
   ],
   "outputs": [
    {
     "data": {
      "text/plain": [
       "                      Metric                                 Value\n",
       "0      Total support vectors                                    62\n",
       "1  Support vectors per class                              [32, 30]\n",
       "2   Best CV score (accuracy)                                 0.757\n",
       "3       Best hyperparameters  {'svm__C': 10, 'svm__gamma': 0.0001}"
      ],
      "text/html": [
       "<div>\n",
       "<style scoped>\n",
       "    .dataframe tbody tr th:only-of-type {\n",
       "        vertical-align: middle;\n",
       "    }\n",
       "\n",
       "    .dataframe tbody tr th {\n",
       "        vertical-align: top;\n",
       "    }\n",
       "\n",
       "    .dataframe thead th {\n",
       "        text-align: right;\n",
       "    }\n",
       "</style>\n",
       "<table border=\"1\" class=\"dataframe\">\n",
       "  <thead>\n",
       "    <tr style=\"text-align: right;\">\n",
       "      <th></th>\n",
       "      <th>Metric</th>\n",
       "      <th>Value</th>\n",
       "    </tr>\n",
       "  </thead>\n",
       "  <tbody>\n",
       "    <tr>\n",
       "      <th>0</th>\n",
       "      <td>Total support vectors</td>\n",
       "      <td>62</td>\n",
       "    </tr>\n",
       "    <tr>\n",
       "      <th>1</th>\n",
       "      <td>Support vectors per class</td>\n",
       "      <td>[32, 30]</td>\n",
       "    </tr>\n",
       "    <tr>\n",
       "      <th>2</th>\n",
       "      <td>Best CV score (accuracy)</td>\n",
       "      <td>0.757</td>\n",
       "    </tr>\n",
       "    <tr>\n",
       "      <th>3</th>\n",
       "      <td>Best hyperparameters</td>\n",
       "      <td>{'svm__C': 10, 'svm__gamma': 0.0001}</td>\n",
       "    </tr>\n",
       "  </tbody>\n",
       "</table>\n",
       "</div>"
      ]
     },
     "execution_count": 150,
     "metadata": {},
     "output_type": "execute_result"
    }
   ],
   "execution_count": 150
  },
  {
   "cell_type": "code",
   "id": "323f956cdd153644",
   "metadata": {
    "ExecuteTime": {
     "end_time": "2025-05-12T10:48:19.591522Z",
     "start_time": "2025-05-12T10:48:19.580793Z"
    }
   },
   "source": [
    "## Predictions\n",
    "y_pred_rbf = grid_search_gaussian.predict(X_test)\n",
    "y_pred_proba_rbf = grid_search_gaussian.predict_proba(X_test)[:, 1]"
   ],
   "outputs": [],
   "execution_count": 151
  },
  {
   "cell_type": "code",
   "id": "596caeaa82407f8d",
   "metadata": {
    "ExecuteTime": {
     "end_time": "2025-05-12T10:48:19.612278Z",
     "start_time": "2025-05-12T10:48:19.610215Z"
    }
   },
   "source": [
    "from sklearn.metrics import confusion_matrix\n",
    "cm_svm_gaussian_model = confusion_matrix(y_test, y_pred_rbf)\n"
   ],
   "outputs": [],
   "execution_count": 152
  },
  {
   "cell_type": "markdown",
   "id": "a78d62f7228fbcc2",
   "metadata": {},
   "source": [
    "### Comparison of the models\n"
   ]
  },
  {
   "cell_type": "code",
   "id": "718f90a4062f7f89",
   "metadata": {
    "ExecuteTime": {
     "end_time": "2025-05-12T10:48:19.692459Z",
     "start_time": "2025-05-12T10:48:19.650646Z"
    }
   },
   "source": [
    "from sklearn.metrics import roc_curve, auc\n",
    "import matplotlib.pyplot as plt\n",
    "\n",
    "# Calcolo delle curve ROC e AUC\n",
    "fpr_linear, tpr_linear, _ = roc_curve(y_test, y_pred_proba_linear)\n",
    "roc_auc_linear = auc(fpr_linear, tpr_linear)\n",
    "\n",
    "fpr_poly, tpr_poly, _ = roc_curve(y_test, y_pred_proba_poly)\n",
    "roc_auc_poly = auc(fpr_poly, tpr_poly)\n",
    "\n",
    "fpr_rbf, tpr_rbf, _ = roc_curve(y_test, y_pred_proba_rbf)\n",
    "roc_auc_rbf = auc(fpr_rbf, tpr_rbf)\n",
    "\n",
    "# Plot ROC curve sovrapposte\n",
    "plt.figure()\n",
    "plt.plot(fpr_linear, tpr_linear, lw=2, label=f'Linear SVM (AUC = {roc_auc_linear:.2f})')\n",
    "plt.plot(fpr_poly, tpr_poly, lw=2, label=f'Poly SVM (AUC = {roc_auc_poly:.2f})')\n",
    "plt.plot(fpr_rbf, tpr_rbf, lw=2, label=f'RBF SVM (AUC = {roc_auc_rbf:.2f})')\n",
    "plt.plot([0, 1], [0, 1], color='gray', lw=2, linestyle='--')  # random classifier line\n",
    "\n",
    "# Layout\n",
    "plt.xlim([0.0, 1.0])\n",
    "plt.ylim([0.0, 1.05])\n",
    "plt.xlabel('False Positive Rate')\n",
    "plt.ylabel('True Positive Rate')\n",
    "plt.title('ROC Curve Comparison')\n",
    "plt.legend(loc=\"lower right\")\n",
    "plt.grid()\n",
    "plt.show()\n"
   ],
   "outputs": [
    {
     "data": {
      "text/plain": [
       "<Figure size 640x480 with 1 Axes>"
      ],
      "image/png": "[encoded data removed]"
     },
     "metadata": {},
     "output_type": "display_data"
    }
   ],
   "execution_count": 153
  },
  {
   "cell_type": "code",
   "id": "77765c90be7d3a57",
   "metadata": {
    "ExecuteTime": {
     "end_time": "2025-05-12T10:48:19.710340Z",
     "start_time": "2025-05-12T10:48:19.697122Z"
    }
   },
   "source": [
    "from sklearn.metrics import accuracy_score, roc_auc_score, precision_score, recall_score, f1_score\n",
    "import pandas as pd\n",
    "\n",
    "# Calcolo delle metriche per ciascun modello\n",
    "acc_linear = accuracy_score(y_test, y_pred_linear)\n",
    "acc_poly = accuracy_score(y_test, y_pred_poly)\n",
    "acc_rbf = accuracy_score(y_test, y_pred_rbf)\n",
    "\n",
    "roc_linear = roc_auc_score(y_test, y_pred_proba_linear)\n",
    "roc_poly = roc_auc_score(y_test, y_pred_proba_poly)\n",
    "roc_rbf = roc_auc_score(y_test, y_pred_proba_rbf)\n",
    "\n",
    "precision_linear = precision_score(y_test, y_pred_linear)\n",
    "precision_poly = precision_score(y_test, y_pred_poly)\n",
    "precision_rbf = precision_score(y_test, y_pred_rbf)\n",
    "\n",
    "recall_linear = recall_score(y_test, y_pred_linear)\n",
    "recall_poly = recall_score(y_test, y_pred_poly)\n",
    "recall_rbf = recall_score(y_test, y_pred_rbf)\n",
    "\n",
    "f1_linear = f1_score(y_test, y_pred_linear)\n",
    "f1_poly = f1_score(y_test, y_pred_poly)\n",
    "f1_rbf = f1_score(y_test, y_pred_rbf)\n",
    "\n",
    "# Creazione della tabella\n",
    "results_df = pd.DataFrame({\n",
    "    \"Model\": [\"Linear SVM\", \"Poly SVM\", \"RBF SVM\"],\n",
    "    \"Accuracy\": [acc_linear, acc_poly, acc_rbf],\n",
    "    \"ROC AUC\": [roc_linear, roc_poly, roc_rbf],\n",
    "    \"Precision\": [precision_linear, precision_poly, precision_rbf],\n",
    "    \"Recall\": [recall_linear, recall_poly, recall_rbf],\n",
    "    \"F1-score\": [f1_linear, f1_poly, f1_rbf]\n",
    "})\n",
    "\n",
    "# Visualizza la tabella\n",
    "df = pd.DataFrame(results_df)\n",
    "df\n",
    "\n",
    "\n"
   ],
   "outputs": [
    {
     "data": {
      "text/plain": [
       "        Model  Accuracy   ROC AUC  Precision    Recall  F1-score\n",
       "0  Linear SVM    0.7500  0.809524   0.800000  0.571429  0.666667\n",
       "1    Poly SVM    0.6875  0.809524   0.666667  0.571429  0.615385\n",
       "2     RBF SVM    0.6875  0.761905   0.666667  0.571429  0.615385"
      ],
      "text/html": [
       "<div>\n",
       "<style scoped>\n",
       "    .dataframe tbody tr th:only-of-type {\n",
       "        vertical-align: middle;\n",
       "    }\n",
       "\n",
       "    .dataframe tbody tr th {\n",
       "        vertical-align: top;\n",
       "    }\n",
       "\n",
       "    .dataframe thead th {\n",
       "        text-align: right;\n",
       "    }\n",
       "</style>\n",
       "<table border=\"1\" class=\"dataframe\">\n",
       "  <thead>\n",
       "    <tr style=\"text-align: right;\">\n",
       "      <th></th>\n",
       "      <th>Model</th>\n",
       "      <th>Accuracy</th>\n",
       "      <th>ROC AUC</th>\n",
       "      <th>Precision</th>\n",
       "      <th>Recall</th>\n",
       "      <th>F1-score</th>\n",
       "    </tr>\n",
       "  </thead>\n",
       "  <tbody>\n",
       "    <tr>\n",
       "      <th>0</th>\n",
       "      <td>Linear SVM</td>\n",
       "      <td>0.7500</td>\n",
       "      <td>0.809524</td>\n",
       "      <td>0.800000</td>\n",
       "      <td>0.571429</td>\n",
       "      <td>0.666667</td>\n",
       "    </tr>\n",
       "    <tr>\n",
       "      <th>1</th>\n",
       "      <td>Poly SVM</td>\n",
       "      <td>0.6875</td>\n",
       "      <td>0.809524</td>\n",
       "      <td>0.666667</td>\n",
       "      <td>0.571429</td>\n",
       "      <td>0.615385</td>\n",
       "    </tr>\n",
       "    <tr>\n",
       "      <th>2</th>\n",
       "      <td>RBF SVM</td>\n",
       "      <td>0.6875</td>\n",
       "      <td>0.761905</td>\n",
       "      <td>0.666667</td>\n",
       "      <td>0.571429</td>\n",
       "      <td>0.615385</td>\n",
       "    </tr>\n",
       "  </tbody>\n",
       "</table>\n",
       "</div>"
      ]
     },
     "execution_count": 154,
     "metadata": {},
     "output_type": "execute_result"
    }
   ],
   "execution_count": 154
  },
  {
   "cell_type": "markdown",
   "id": "b53d3ca1c00ae657",
   "metadata": {},
   "source": [
    "From the metrics and from the ROC-curve it seems that the best model is the RBF SV"
   ]
  },
  {
   "cell_type": "code",
   "id": "1b0586e936bfda9",
   "metadata": {
    "ExecuteTime": {
     "end_time": "2025-05-12T10:48:19.879803Z",
     "start_time": "2025-05-12T10:48:19.751830Z"
    }
   },
   "source": [
    "# Comparison throught Confusion matrix\n",
    "plt.figure(figsize=(15, 4))\n",
    "\n",
    "# Linear SVM\n",
    "plt.subplot(1, 3, 1)  # 1 riga, 3 colonne, posizione 1\n",
    "sns.heatmap(cm_svm_linear_model, annot=True, fmt='d', cmap='Blues')\n",
    "plt.title(\"Linear SVM\")\n",
    "plt.xlabel(\"Predicted\")\n",
    "plt.ylabel(\"True\")\n",
    "\n",
    "# Polynomial SVM\n",
    "plt.subplot(1, 3, 2)  # 1 riga, 3 colonne, posizione 2\n",
    "sns.heatmap(cm_svm_polynomial_model, annot=True, fmt='d', cmap='Blues')\n",
    "plt.title(\"Polynomial SVM\")\n",
    "plt.xlabel(\"Predicted\")\n",
    "plt.ylabel(\"\")\n",
    "\n",
    "# Gaussian/RBF SVM\n",
    "plt.subplot(1, 3, 3)  # 1 riga, 3 colonne, posizione 3\n",
    "sns.heatmap(cm_svm_gaussian_model, annot=True, fmt='d', cmap='Blues')\n",
    "plt.title(\"RBF SVM\")\n",
    "plt.xlabel(\"Predicted\")\n",
    "plt.ylabel(\"\")\n",
    "\n",
    "# Layout\n",
    "plt.tight_layout()\n",
    "plt.suptitle(\"Confusion Matrix Comparison Across SVM Kernels\", y=1.05)\n",
    "plt.show()\n",
    "\n"
   ],
   "outputs": [
    {
     "data": {
      "text/plain": [
       "<Figure size 1500x400 with 6 Axes>"
      ],
      "image/png": "[encoded data removed]"
     },
     "metadata": {},
     "output_type": "display_data"
    }
   ],
   "execution_count": 155
  },
  {
   "metadata": {},
   "cell_type": "markdown",
   "source": "#### Threshold set",
   "id": "ece3c4c7dd00defe"
  },
  {
   "metadata": {
    "ExecuteTime": {
     "end_time": "2025-05-12T10:48:19.948469Z",
     "start_time": "2025-05-12T10:48:19.895808Z"
    }
   },
   "cell_type": "code",
   "source": [
    "# Probabilità predette per la classe positiva\n",
    "y_pred_proba_linear = grid_search_linear.predict_proba(X_test)[:, 1]\n",
    "\n",
    "# Calcolo fpr, tpr, thresholds\n",
    "fpr, tpr, thresholds = roc_curve(y_test, y_pred_proba_linear)\n",
    "\n",
    "# Youden's J statistic\n",
    "best_threshold = thresholds[np.argmax(np.abs(fpr - tpr))]\n",
    "\n",
    "print(f\"Best threshold: {best_threshold:.3f}\")\n",
    "\n",
    "# Riclassificazione con soglia ottimale\n",
    "y_pred_linear_BT = np.where(y_pred_proba_linear >= best_threshold, 1, -1)\n",
    "\n",
    "cm_svm_linear_BT = confusion_matrix(y_test, y_pred_linear_BT)\n",
    "cm_svm_linear_BT\n",
    "\n",
    "# plot\n",
    "plt.figure(figsize=(6, 4))\n",
    "sns.heatmap(cm_svm_linear_BT, annot=True, fmt='d', cmap='Blues',\n",
    "            xticklabels=[-1, 1], yticklabels=[-1, 1])\n",
    "\n",
    "plt.xlabel('Predicted Label')\n",
    "plt.ylabel('True Label')\n",
    "plt.title('Confusion Matrix (SVM Linear, Best Threshold)')\n",
    "plt.tight_layout()\n",
    "plt.show()"
   ],
   "id": "5ac7b32fd06aea8a",
   "outputs": [
    {
     "name": "stdout",
     "output_type": "stream",
     "text": [
      "Best threshold: 0.459\n"
     ]
    },
    {
     "data": {
      "text/plain": [
       "<Figure size 600x400 with 2 Axes>"
      ],
      "image/png": "[encoded data removed]"
     },
     "metadata": {},
     "output_type": "display_data"
    }
   ],
   "execution_count": 156
  },
  {
   "metadata": {
    "ExecuteTime": {
     "end_time": "2025-05-12T10:48:19.959122Z",
     "start_time": "2025-05-12T10:48:19.953021Z"
    }
   },
   "cell_type": "code",
   "source": [
    "# Calcolo metriche\n",
    "acc = accuracy_score(y_test, y_pred_linear_BT)\n",
    "prec = precision_score(y_test, y_pred_linear_BT, pos_label=1)\n",
    "rec = recall_score(y_test, y_pred_linear_BT, pos_label=1)\n",
    "f1 = f1_score(y_test, y_pred_linear_BT, pos_label=1)\n",
    "\n",
    "# Creazione tabella con pandas\n",
    "metrics_df = pd.DataFrame({\n",
    "    \"Metric\": [\"Accuracy\", \"Precision\", \"Recall\", \"F1-score\"],\n",
    "    \"New_Score\": [acc, prec, rec, f1],\n",
    "    \"Old_score\": [acc_linear, precision_linear, recall_linear, f1_linear]\n",
    "})\n",
    "\n",
    "metrics_df"
   ],
   "id": "9300137b1013fe9d",
   "outputs": [
    {
     "data": {
      "text/plain": [
       "      Metric  New_Score  Old_score\n",
       "0   Accuracy   0.812500   0.750000\n",
       "1  Precision   0.833333   0.800000\n",
       "2     Recall   0.714286   0.571429\n",
       "3   F1-score   0.769231   0.666667"
      ],
      "text/html": [
       "<div>\n",
       "<style scoped>\n",
       "    .dataframe tbody tr th:only-of-type {\n",
       "        vertical-align: middle;\n",
       "    }\n",
       "\n",
       "    .dataframe tbody tr th {\n",
       "        vertical-align: top;\n",
       "    }\n",
       "\n",
       "    .dataframe thead th {\n",
       "        text-align: right;\n",
       "    }\n",
       "</style>\n",
       "<table border=\"1\" class=\"dataframe\">\n",
       "  <thead>\n",
       "    <tr style=\"text-align: right;\">\n",
       "      <th></th>\n",
       "      <th>Metric</th>\n",
       "      <th>New_Score</th>\n",
       "      <th>Old_score</th>\n",
       "    </tr>\n",
       "  </thead>\n",
       "  <tbody>\n",
       "    <tr>\n",
       "      <th>0</th>\n",
       "      <td>Accuracy</td>\n",
       "      <td>0.812500</td>\n",
       "      <td>0.750000</td>\n",
       "    </tr>\n",
       "    <tr>\n",
       "      <th>1</th>\n",
       "      <td>Precision</td>\n",
       "      <td>0.833333</td>\n",
       "      <td>0.800000</td>\n",
       "    </tr>\n",
       "    <tr>\n",
       "      <th>2</th>\n",
       "      <td>Recall</td>\n",
       "      <td>0.714286</td>\n",
       "      <td>0.571429</td>\n",
       "    </tr>\n",
       "    <tr>\n",
       "      <th>3</th>\n",
       "      <td>F1-score</td>\n",
       "      <td>0.769231</td>\n",
       "      <td>0.666667</td>\n",
       "    </tr>\n",
       "  </tbody>\n",
       "</table>\n",
       "</div>"
      ]
     },
     "execution_count": 157,
     "metadata": {},
     "output_type": "execute_result"
    }
   ],
   "execution_count": 157
  },
  {
   "cell_type": "markdown",
   "id": "cb86dac67d728261",
   "metadata": {},
   "source": [
    "## Variance deletion\n",
    "A popular approach in gene expression analysis is to keep only the most variable genes for downstream\n",
    "analysis. Since most of the 2K genes have low expression or do not vary much across the experiments,\n",
    "this step usually minimizes the contribution of noise. Select then only genes whose standard deviation\n",
    "is among the top 5% and repeat the analyses performed in the previous task on the filtered data set."
   ]
  },
  {
   "cell_type": "code",
   "id": "7e7d950eba036277",
   "metadata": {
    "ExecuteTime": {
     "end_time": "2025-05-12T10:48:20.002325Z",
     "start_time": "2025-05-12T10:48:19.998779Z"
    }
   },
   "source": [
    "# Compute standard deviation of genes on X_train\n",
    "stds = X_train.std(axis=0)\n",
    "# Select top 5% most variable genes\n",
    "top_genes = stds.sort_values(ascending=False).head(int(0.05 * len(stds))).index\n",
    "\n",
    "# Filter both train and test on these genes\n",
    "X_train_filtered = X_train[top_genes]\n",
    "X_test_filtered = X_test[top_genes]\n"
   ],
   "outputs": [],
   "execution_count": 158
  },
  {
   "metadata": {
    "ExecuteTime": {
     "end_time": "2025-05-12T10:48:20.116492Z",
     "start_time": "2025-05-12T10:48:20.114415Z"
    }
   },
   "cell_type": "code",
   "source": "len(top_genes)",
   "id": "385b4edf16fccc09",
   "outputs": [
    {
     "data": {
      "text/plain": [
       "100"
      ]
     },
     "execution_count": 159,
     "metadata": {},
     "output_type": "execute_result"
    }
   ],
   "execution_count": 159
  },
  {
   "cell_type": "markdown",
   "id": "2b63b6bdbbf56432",
   "metadata": {},
   "source": [
    "### Linear"
   ]
  },
  {
   "cell_type": "code",
   "id": "b17ccb44427cf60b",
   "metadata": {
    "ExecuteTime": {
     "end_time": "2025-05-12T10:48:20.181761Z",
     "start_time": "2025-05-12T10:48:20.122033Z"
    }
   },
   "source": [
    "from sklearn.pipeline import Pipeline\n",
    "from sklearn.preprocessing import StandardScaler\n",
    "linear_svm_clf = Pipeline([\n",
    "    (\"scaler\", StandardScaler()),\n",
    "    (\"svm\", SVC(kernel=\"linear\", probability=True, random_state=0)),\n",
    "])\n",
    "\n",
    "## hyperparameter tuning\n",
    "from sklearn.model_selection import GridSearchCV\n",
    "parameters = {\"svm__C\":[0.001, 0.01, 0.1, 1, 10, 100, 1000]}\n",
    "\n",
    "grid_search_linear_c = GridSearchCV(\n",
    "    estimator = linear_svm_clf,\n",
    "    param_grid = parameters,\n",
    "    scoring= \"accuracy\",\n",
    "    n_jobs=-1,\n",
    "    refit=\"accuracy\",\n",
    "    cv= kfold,\n",
    ")\n",
    "grid_search_linear_c.fit(X_train_filtered, y_train)\n",
    "svm_linear_model_c = grid_search_linear_c.best_estimator_.named_steps[\"svm\"]"
   ],
   "outputs": [],
   "execution_count": 160
  },
  {
   "cell_type": "code",
   "id": "83062e423b39b680",
   "metadata": {
    "ExecuteTime": {
     "end_time": "2025-05-12T10:48:20.211175Z",
     "start_time": "2025-05-12T10:48:20.207916Z"
    }
   },
   "source": [
    "# Metric evaluation\n",
    "n_support_vectors = svm_linear_model_c.support_vectors_.shape[0]\n",
    "support_per_class = svm_linear_model_c.n_support_\n",
    "best_score = grid_search_linear_c.best_score_\n",
    "best_params = grid_search_linear_c.best_params_\n",
    "\n",
    "# Crea un dizionario per la tabella\n",
    "svm_summary = {\n",
    "    \"Metric\": [\n",
    "        \"Total support vectors\",\n",
    "        \"Support vectors per class\",\n",
    "        \"Best CV score (accuracy)\",\n",
    "        \"Best hyperparameters\"\n",
    "    ],\n",
    "    \"Value\": [\n",
    "        n_support_vectors,\n",
    "        support_per_class.tolist(),\n",
    "        round(best_score, 3),\n",
    "        str(best_params)\n",
    "    ]\n",
    "}\n",
    "\n",
    "# Converti in DataFrame\n",
    "svm_df = pd.DataFrame(svm_summary)\n",
    "\n",
    "# Visualizza\n",
    "svm_df"
   ],
   "outputs": [
    {
     "data": {
      "text/plain": [
       "                      Metric            Value\n",
       "0      Total support vectors               35\n",
       "1  Support vectors per class         [16, 19]\n",
       "2   Best CV score (accuracy)            0.826\n",
       "3       Best hyperparameters  {'svm__C': 0.1}"
      ],
      "text/html": [
       "<div>\n",
       "<style scoped>\n",
       "    .dataframe tbody tr th:only-of-type {\n",
       "        vertical-align: middle;\n",
       "    }\n",
       "\n",
       "    .dataframe tbody tr th {\n",
       "        vertical-align: top;\n",
       "    }\n",
       "\n",
       "    .dataframe thead th {\n",
       "        text-align: right;\n",
       "    }\n",
       "</style>\n",
       "<table border=\"1\" class=\"dataframe\">\n",
       "  <thead>\n",
       "    <tr style=\"text-align: right;\">\n",
       "      <th></th>\n",
       "      <th>Metric</th>\n",
       "      <th>Value</th>\n",
       "    </tr>\n",
       "  </thead>\n",
       "  <tbody>\n",
       "    <tr>\n",
       "      <th>0</th>\n",
       "      <td>Total support vectors</td>\n",
       "      <td>35</td>\n",
       "    </tr>\n",
       "    <tr>\n",
       "      <th>1</th>\n",
       "      <td>Support vectors per class</td>\n",
       "      <td>[16, 19]</td>\n",
       "    </tr>\n",
       "    <tr>\n",
       "      <th>2</th>\n",
       "      <td>Best CV score (accuracy)</td>\n",
       "      <td>0.826</td>\n",
       "    </tr>\n",
       "    <tr>\n",
       "      <th>3</th>\n",
       "      <td>Best hyperparameters</td>\n",
       "      <td>{'svm__C': 0.1}</td>\n",
       "    </tr>\n",
       "  </tbody>\n",
       "</table>\n",
       "</div>"
      ]
     },
     "execution_count": 161,
     "metadata": {},
     "output_type": "execute_result"
    }
   ],
   "execution_count": 161
  },
  {
   "cell_type": "code",
   "id": "2d2b32149c8ee912",
   "metadata": {
    "ExecuteTime": {
     "end_time": "2025-05-12T10:48:20.239840Z",
     "start_time": "2025-05-12T10:48:20.236525Z"
    }
   },
   "source": [
    "## Predictions\n",
    "y_pred_linear_c = grid_search_linear_c.predict(X_test_filtered)\n",
    "y_pred_proba_linear_c = grid_search_linear_c.predict_proba(X_test_filtered)[:, 1]"
   ],
   "outputs": [],
   "execution_count": 162
  },
  {
   "cell_type": "code",
   "id": "3cb3957226bbdcfa",
   "metadata": {
    "ExecuteTime": {
     "end_time": "2025-05-12T10:48:20.254267Z",
     "start_time": "2025-05-12T10:48:20.252353Z"
    }
   },
   "source": [
    "## Evaluation\n",
    "from sklearn.metrics import confusion_matrix\n",
    "cm_grid_search_linear_c = confusion_matrix(y_test, y_pred_linear_c)"
   ],
   "outputs": [],
   "execution_count": 163
  },
  {
   "cell_type": "markdown",
   "id": "23ac6aae41107631",
   "metadata": {},
   "source": [
    "### Polynomial"
   ]
  },
  {
   "cell_type": "code",
   "id": "c982b8920cb554a9",
   "metadata": {
    "ExecuteTime": {
     "end_time": "2025-05-12T10:48:20.500118Z",
     "start_time": "2025-05-12T10:48:20.271302Z"
    }
   },
   "source": [
    "from sklearn.pipeline import Pipeline\n",
    "from sklearn.preprocessing import StandardScaler\n",
    "\n",
    "polynoaml_svm_clf = Pipeline([\n",
    "    (\"scaler\", StandardScaler()),\n",
    "    (\"svm\", SVC(kernel=\"poly\", probability=True, random_state=0)),\n",
    "])\n",
    "\n",
    "## hyperparameter tuning\n",
    "from sklearn.model_selection import GridSearchCV\n",
    "\n",
    "parameters = {\"svm__C\": [0.001, 0.01, 0.1, 1, 10, 100, 1000],\n",
    "              \"svm__degree\": [1, 2, 3, 4, 5, 6]}\n",
    "\n",
    "grid_search_poly_c = GridSearchCV(\n",
    "    estimator=polynoaml_svm_clf,\n",
    "    param_grid=parameters,\n",
    "    scoring=\"accuracy\",\n",
    "    n_jobs=-1,\n",
    "    refit=\"accuracy\",\n",
    "    cv=kfold,\n",
    ")\n",
    "grid_search_poly_c.fit(X_train_filtered, y_train)\n",
    "svm_poly_model_c = grid_search_poly_c.best_estimator_.named_steps[\"svm\"]"
   ],
   "outputs": [],
   "execution_count": 164
  },
  {
   "cell_type": "code",
   "id": "a9fa62c865a1d842",
   "metadata": {
    "ExecuteTime": {
     "end_time": "2025-05-12T10:48:20.508167Z",
     "start_time": "2025-05-12T10:48:20.504643Z"
    }
   },
   "source": [
    "# Metric evaluation\n",
    "n_support_vectors = svm_poly_model_c.support_vectors_.shape[0]\n",
    "support_per_class = svm_poly_model_c.n_support_\n",
    "best_score = grid_search_poly_c.best_score_\n",
    "best_params = grid_search_poly_c.best_params_\n",
    "\n",
    "# Crea un dizionario per la tabella\n",
    "svm_summary = {\n",
    "    \"Metric\": [\n",
    "        \"Total support vectors\",\n",
    "        \"Support vectors per class\",\n",
    "        \"Best CV score (accuracy)\",\n",
    "        \"Best hyperparameters\"\n",
    "    ],\n",
    "    \"Value\": [\n",
    "        n_support_vectors,\n",
    "        support_per_class.tolist(),\n",
    "        round(best_score, 3),\n",
    "        str(best_params)\n",
    "    ]\n",
    "}\n",
    "\n",
    "# Converti in DataFrame\n",
    "svm_df = pd.DataFrame(svm_summary)\n",
    "\n",
    "# Visualizza\n",
    "svm_df"
   ],
   "outputs": [
    {
     "data": {
      "text/plain": [
       "                      Metric                             Value\n",
       "0      Total support vectors                                35\n",
       "1  Support vectors per class                          [16, 19]\n",
       "2   Best CV score (accuracy)                             0.826\n",
       "3       Best hyperparameters  {'svm__C': 10, 'svm__degree': 1}"
      ],
      "text/html": [
       "<div>\n",
       "<style scoped>\n",
       "    .dataframe tbody tr th:only-of-type {\n",
       "        vertical-align: middle;\n",
       "    }\n",
       "\n",
       "    .dataframe tbody tr th {\n",
       "        vertical-align: top;\n",
       "    }\n",
       "\n",
       "    .dataframe thead th {\n",
       "        text-align: right;\n",
       "    }\n",
       "</style>\n",
       "<table border=\"1\" class=\"dataframe\">\n",
       "  <thead>\n",
       "    <tr style=\"text-align: right;\">\n",
       "      <th></th>\n",
       "      <th>Metric</th>\n",
       "      <th>Value</th>\n",
       "    </tr>\n",
       "  </thead>\n",
       "  <tbody>\n",
       "    <tr>\n",
       "      <th>0</th>\n",
       "      <td>Total support vectors</td>\n",
       "      <td>35</td>\n",
       "    </tr>\n",
       "    <tr>\n",
       "      <th>1</th>\n",
       "      <td>Support vectors per class</td>\n",
       "      <td>[16, 19]</td>\n",
       "    </tr>\n",
       "    <tr>\n",
       "      <th>2</th>\n",
       "      <td>Best CV score (accuracy)</td>\n",
       "      <td>0.826</td>\n",
       "    </tr>\n",
       "    <tr>\n",
       "      <th>3</th>\n",
       "      <td>Best hyperparameters</td>\n",
       "      <td>{'svm__C': 10, 'svm__degree': 1}</td>\n",
       "    </tr>\n",
       "  </tbody>\n",
       "</table>\n",
       "</div>"
      ]
     },
     "execution_count": 165,
     "metadata": {},
     "output_type": "execute_result"
    }
   ],
   "execution_count": 165
  },
  {
   "cell_type": "code",
   "id": "3f27e1a671146313",
   "metadata": {
    "ExecuteTime": {
     "end_time": "2025-05-12T10:48:20.552567Z",
     "start_time": "2025-05-12T10:48:20.549053Z"
    }
   },
   "source": [
    "## Predictions\n",
    "y_pred_poly_c = grid_search_poly_c.predict(X_test_filtered)\n",
    "y_pred_proba_poly_c = grid_search_poly_c.predict_proba(X_test_filtered)[:, 1]\n"
   ],
   "outputs": [],
   "execution_count": 166
  },
  {
   "cell_type": "code",
   "id": "ccd9a1498901b91d",
   "metadata": {
    "ExecuteTime": {
     "end_time": "2025-05-12T10:48:20.569929Z",
     "start_time": "2025-05-12T10:48:20.567986Z"
    }
   },
   "source": [
    "## Evaluation\n",
    "from sklearn.metrics import confusion_matrix\n",
    "cm_svm_poly_model_c = confusion_matrix(y_test, y_pred_poly_c)\n"
   ],
   "outputs": [],
   "execution_count": 167
  },
  {
   "cell_type": "markdown",
   "id": "52e0af013fe3c7ee",
   "metadata": {},
   "source": [
    "### Gaussian"
   ]
  },
  {
   "cell_type": "code",
   "id": "ee3f51f905092637",
   "metadata": {
    "ExecuteTime": {
     "end_time": "2025-05-12T10:48:20.819414Z",
     "start_time": "2025-05-12T10:48:20.609016Z"
    }
   },
   "source": [
    "from sklearn.pipeline import Pipeline\n",
    "from sklearn.preprocessing import StandardScaler\n",
    "\n",
    "gaussian_svm_clf = Pipeline([\n",
    "    (\"scaler\", StandardScaler()),\n",
    "    (\"svm\", SVC(kernel=\"rbf\", probability=True, random_state=0)),\n",
    "])\n",
    "\n",
    "## hyperparameter tuning\n",
    "from sklearn.model_selection import GridSearchCV\n",
    "\n",
    "parameters = {\"svm__C\": [0.001, 0.01, 0.1, 1, 10, 100, 1000],\n",
    "              \"svm__gamma\": [0.0001, 0.001, 0.01, 0.1, 1, 10]}\n",
    "\n",
    "grid_search_gaussian_c = GridSearchCV(\n",
    "    estimator=gaussian_svm_clf,\n",
    "    param_grid=parameters,\n",
    "    scoring=\"accuracy\",\n",
    "    n_jobs=-1,\n",
    "    refit=\"accuracy\",\n",
    "    cv=kfold,\n",
    ")\n",
    "grid_search_gaussian_c.fit(X_train_filtered, y_train)\n",
    "svm_gaussian_model_c = grid_search_gaussian_c.best_estimator_.named_steps[\"svm\"]\n"
   ],
   "outputs": [],
   "execution_count": 168
  },
  {
   "cell_type": "code",
   "id": "eb0a718cb8e77217",
   "metadata": {
    "ExecuteTime": {
     "end_time": "2025-05-12T10:48:20.827131Z",
     "start_time": "2025-05-12T10:48:20.823717Z"
    }
   },
   "source": [
    "# Metric evaluation\n",
    "n_support_vectors = svm_gaussian_model_c.support_vectors_.shape[0]\n",
    "support_per_class = svm_gaussian_model_c.n_support_\n",
    "best_score = grid_search_gaussian_c.best_score_\n",
    "best_params = grid_search_gaussian_c.best_params_\n",
    "\n",
    "# Crea un dizionario per la tabella\n",
    "svm_summary = {\n",
    "    \"Metric\": [\n",
    "        \"Total support vectors\",\n",
    "        \"Support vectors per class\",\n",
    "        \"Best CV score (accuracy)\",\n",
    "        \"Best hyperparameters\"\n",
    "    ],\n",
    "    \"Value\": [\n",
    "        n_support_vectors,\n",
    "        support_per_class.tolist(),\n",
    "        round(best_score, 3),\n",
    "        str(best_params)\n",
    "    ]\n",
    "}\n",
    "\n",
    "# Converti in DataFrame\n",
    "svm_df = pd.DataFrame(svm_summary)\n",
    "\n",
    "# Visualizza\n",
    "svm_df"
   ],
   "outputs": [
    {
     "data": {
      "text/plain": [
       "                      Metric                                Value\n",
       "0      Total support vectors                                   42\n",
       "1  Support vectors per class                             [22, 20]\n",
       "2   Best CV score (accuracy)                                0.871\n",
       "3       Best hyperparameters  {'svm__C': 10, 'svm__gamma': 0.001}"
      ],
      "text/html": [
       "<div>\n",
       "<style scoped>\n",
       "    .dataframe tbody tr th:only-of-type {\n",
       "        vertical-align: middle;\n",
       "    }\n",
       "\n",
       "    .dataframe tbody tr th {\n",
       "        vertical-align: top;\n",
       "    }\n",
       "\n",
       "    .dataframe thead th {\n",
       "        text-align: right;\n",
       "    }\n",
       "</style>\n",
       "<table border=\"1\" class=\"dataframe\">\n",
       "  <thead>\n",
       "    <tr style=\"text-align: right;\">\n",
       "      <th></th>\n",
       "      <th>Metric</th>\n",
       "      <th>Value</th>\n",
       "    </tr>\n",
       "  </thead>\n",
       "  <tbody>\n",
       "    <tr>\n",
       "      <th>0</th>\n",
       "      <td>Total support vectors</td>\n",
       "      <td>42</td>\n",
       "    </tr>\n",
       "    <tr>\n",
       "      <th>1</th>\n",
       "      <td>Support vectors per class</td>\n",
       "      <td>[22, 20]</td>\n",
       "    </tr>\n",
       "    <tr>\n",
       "      <th>2</th>\n",
       "      <td>Best CV score (accuracy)</td>\n",
       "      <td>0.871</td>\n",
       "    </tr>\n",
       "    <tr>\n",
       "      <th>3</th>\n",
       "      <td>Best hyperparameters</td>\n",
       "      <td>{'svm__C': 10, 'svm__gamma': 0.001}</td>\n",
       "    </tr>\n",
       "  </tbody>\n",
       "</table>\n",
       "</div>"
      ]
     },
     "execution_count": 169,
     "metadata": {},
     "output_type": "execute_result"
    }
   ],
   "execution_count": 169
  },
  {
   "cell_type": "code",
   "id": "5491b905898bae8c",
   "metadata": {
    "ExecuteTime": {
     "end_time": "2025-05-12T10:48:20.857476Z",
     "start_time": "2025-05-12T10:48:20.854117Z"
    }
   },
   "source": [
    "## Predictions\n",
    "y_pred_rbf_c = grid_search_gaussian_c.predict(X_test_filtered)\n",
    "y_pred_proba_rbf_c = grid_search_gaussian_c.predict_proba(X_test_filtered)[:, 1]"
   ],
   "outputs": [],
   "execution_count": 170
  },
  {
   "cell_type": "code",
   "id": "4df74f0aea59c341",
   "metadata": {
    "ExecuteTime": {
     "end_time": "2025-05-12T10:48:20.873340Z",
     "start_time": "2025-05-12T10:48:20.871249Z"
    }
   },
   "source": [
    "## Evaluation\n",
    "from sklearn.metrics import confusion_matrix\n",
    "cm_svm_gaussian_model_c = confusion_matrix(y_test, y_pred_rbf_c)\n"
   ],
   "outputs": [],
   "execution_count": 171
  },
  {
   "cell_type": "markdown",
   "id": "9c9e64e5c2ca59bc",
   "metadata": {},
   "source": [
    "#### Comparison model"
   ]
  },
  {
   "cell_type": "code",
   "id": "23e308b7255d1219",
   "metadata": {
    "ExecuteTime": {
     "end_time": "2025-05-12T10:48:20.936796Z",
     "start_time": "2025-05-12T10:48:20.891029Z"
    }
   },
   "source": [
    "from sklearn.metrics import roc_curve, auc\n",
    "import matplotlib.pyplot as plt\n",
    "\n",
    "# Calcolo delle curve ROC e AUC\n",
    "fpr_linear, tpr_linear, _ = roc_curve(y_test, y_pred_proba_linear_c)\n",
    "roc_auc_linear = auc(fpr_linear, tpr_linear)\n",
    "\n",
    "fpr_poly, tpr_poly, _ = roc_curve(y_test, y_pred_proba_poly_c)\n",
    "roc_auc_poly = auc(fpr_poly, tpr_poly)\n",
    "\n",
    "fpr_rbf, tpr_rbf, _ = roc_curve(y_test, y_pred_proba_rbf_c)\n",
    "roc_auc_rbf = auc(fpr_rbf, tpr_rbf)\n",
    "\n",
    "# Plot ROC curve sovrapposte\n",
    "plt.figure()\n",
    "plt.plot(fpr_linear, tpr_linear, lw=2, label=f'Linear SVM (AUC = {roc_auc_linear:.2f})')\n",
    "plt.plot(fpr_poly, tpr_poly, lw=2, label=f'Poly SVM (AUC = {roc_auc_poly:.2f})')\n",
    "plt.plot(fpr_rbf, tpr_rbf, lw=2, label=f'RBF SVM (AUC = {roc_auc_rbf:.2f})')\n",
    "plt.plot([0, 1], [0, 1], color='gray', lw=2, linestyle='--')  # random classifier line\n",
    "\n",
    "# Layout\n",
    "plt.xlim([0.0, 1.0])\n",
    "plt.ylim([0.0, 1.05])\n",
    "plt.xlabel('False Positive Rate')\n",
    "plt.ylabel('True Positive Rate')\n",
    "plt.title('ROC Curve Comparison')\n",
    "plt.legend(loc=\"lower right\")\n",
    "plt.grid()\n",
    "plt.show()"
   ],
   "outputs": [
    {
     "data": {
      "text/plain": [
       "<Figure size 640x480 with 1 Axes>"
      ],
      "image/png": "[encoded data removed]"
     },
     "metadata": {},
     "output_type": "display_data"
    }
   ],
   "execution_count": 172
  },
  {
   "cell_type": "code",
   "id": "be591246633de6ca",
   "metadata": {
    "ExecuteTime": {
     "end_time": "2025-05-12T10:48:20.964365Z",
     "start_time": "2025-05-12T10:48:20.950800Z"
    }
   },
   "source": [
    "from sklearn.metrics import accuracy_score, roc_auc_score, precision_score, recall_score, f1_score\n",
    "import pandas as pd\n",
    "\n",
    "# Calcolo delle metriche per ciascun modello\n",
    "acc_linear = accuracy_score(y_test, y_pred_linear_c)\n",
    "acc_poly = accuracy_score(y_test, y_pred_poly_c)\n",
    "acc_rbf = accuracy_score(y_test, y_pred_rbf_c)\n",
    "\n",
    "roc_linear = roc_auc_score(y_test, y_pred_proba_linear_c)\n",
    "roc_poly = roc_auc_score(y_test, y_pred_proba_poly_c)\n",
    "roc_rbf = roc_auc_score(y_test, y_pred_proba_rbf_c)\n",
    "\n",
    "precision_linear = precision_score(y_test, y_pred_linear_c)\n",
    "precision_poly = precision_score(y_test, y_pred_poly_c)\n",
    "precision_rbf = precision_score(y_test, y_pred_rbf_c)\n",
    "\n",
    "recall_linear = recall_score(y_test, y_pred_linear_c)\n",
    "recall_poly = recall_score(y_test, y_pred_poly_c)\n",
    "recall_rbf = recall_score(y_test, y_pred_rbf_c)\n",
    "\n",
    "f1_linear = f1_score(y_test, y_pred_linear_c)\n",
    "f1_poly = f1_score(y_test, y_pred_poly_c)\n",
    "f1_rbf = f1_score(y_test, y_pred_rbf_c)\n",
    "\n",
    "# Creazione della tabella\n",
    "results_df = pd.DataFrame({\n",
    "    \"Model\": [\"Linear SVM\", \"Poly SVM\", \"RBF SVM\"],\n",
    "    \"Accuracy\": [acc_linear, acc_poly, acc_rbf],\n",
    "    \"ROC AUC\": [roc_linear, roc_poly, roc_rbf],\n",
    "    \"Precision\": [precision_linear, precision_poly, precision_rbf],\n",
    "    \"Recall\": [recall_linear, recall_poly, recall_rbf],\n",
    "    \"F1-score\": [f1_linear, f1_poly, f1_rbf]\n",
    "})\n",
    "\n",
    "# Visualizza la tabella\n",
    "pd.DataFrame(results_df)\n"
   ],
   "outputs": [
    {
     "data": {
      "text/plain": [
       "        Model  Accuracy   ROC AUC  Precision    Recall  F1-score\n",
       "0  Linear SVM    0.7500  0.857143        0.8  0.571429  0.666667\n",
       "1    Poly SVM    0.7500  0.857143        0.8  0.571429  0.666667\n",
       "2     RBF SVM    0.8125  0.825397        1.0  0.571429  0.727273"
      ],
      "text/html": [
       "<div>\n",
       "<style scoped>\n",
       "    .dataframe tbody tr th:only-of-type {\n",
       "        vertical-align: middle;\n",
       "    }\n",
       "\n",
       "    .dataframe tbody tr th {\n",
       "        vertical-align: top;\n",
       "    }\n",
       "\n",
       "    .dataframe thead th {\n",
       "        text-align: right;\n",
       "    }\n",
       "</style>\n",
       "<table border=\"1\" class=\"dataframe\">\n",
       "  <thead>\n",
       "    <tr style=\"text-align: right;\">\n",
       "      <th></th>\n",
       "      <th>Model</th>\n",
       "      <th>Accuracy</th>\n",
       "      <th>ROC AUC</th>\n",
       "      <th>Precision</th>\n",
       "      <th>Recall</th>\n",
       "      <th>F1-score</th>\n",
       "    </tr>\n",
       "  </thead>\n",
       "  <tbody>\n",
       "    <tr>\n",
       "      <th>0</th>\n",
       "      <td>Linear SVM</td>\n",
       "      <td>0.7500</td>\n",
       "      <td>0.857143</td>\n",
       "      <td>0.8</td>\n",
       "      <td>0.571429</td>\n",
       "      <td>0.666667</td>\n",
       "    </tr>\n",
       "    <tr>\n",
       "      <th>1</th>\n",
       "      <td>Poly SVM</td>\n",
       "      <td>0.7500</td>\n",
       "      <td>0.857143</td>\n",
       "      <td>0.8</td>\n",
       "      <td>0.571429</td>\n",
       "      <td>0.666667</td>\n",
       "    </tr>\n",
       "    <tr>\n",
       "      <th>2</th>\n",
       "      <td>RBF SVM</td>\n",
       "      <td>0.8125</td>\n",
       "      <td>0.825397</td>\n",
       "      <td>1.0</td>\n",
       "      <td>0.571429</td>\n",
       "      <td>0.727273</td>\n",
       "    </tr>\n",
       "  </tbody>\n",
       "</table>\n",
       "</div>"
      ]
     },
     "execution_count": 173,
     "metadata": {},
     "output_type": "execute_result"
    }
   ],
   "execution_count": 173
  },
  {
   "cell_type": "code",
   "id": "d215048f933939c2",
   "metadata": {
    "ExecuteTime": {
     "end_time": "2025-05-12T10:48:21.138973Z",
     "start_time": "2025-05-12T10:48:21.003274Z"
    }
   },
   "source": [
    "import matplotlib.pyplot as plt\n",
    "import seaborn as sns\n",
    "\n",
    "plt.figure(figsize=(15, 4))\n",
    "\n",
    "# Linear SVM\n",
    "plt.subplot(1, 3, 1)\n",
    "sns.heatmap(cm_grid_search_linear_c, annot=True, fmt='d', cmap='Blues')\n",
    "plt.title(\"Linear SVM\")\n",
    "plt.xlabel(\"Predicted\")\n",
    "plt.ylabel(\"True\")\n",
    "\n",
    "# Polynomial SVM\n",
    "plt.subplot(1, 3, 2)\n",
    "sns.heatmap(cm_svm_poly_model_c, annot=True, fmt='d', cmap='Blues')\n",
    "plt.title(\"Polynomial SVM\")\n",
    "plt.xlabel(\"Predicted\")\n",
    "plt.ylabel(\"\")\n",
    "\n",
    "# RBF/Gaussian SVM\n",
    "plt.subplot(1, 3, 3)\n",
    "sns.heatmap(cm_svm_gaussian_model_c, annot=True, fmt='d', cmap='Blues')\n",
    "plt.title(\"RBF SVM\")\n",
    "plt.xlabel(\"Predicted\")\n",
    "plt.ylabel(\"\")\n",
    "\n",
    "plt.suptitle(\"Confusion Matrix Comparison (Top 5% Genes)\", y=1.05)\n",
    "plt.tight_layout()\n",
    "plt.show()\n"
   ],
   "outputs": [
    {
     "data": {
      "text/plain": [
       "<Figure size 1500x400 with 6 Axes>"
      ],
      "image/png": "[encoded data removed]"
     },
     "metadata": {},
     "output_type": "display_data"
    }
   ],
   "execution_count": 174
  },
  {
   "metadata": {},
   "cell_type": "markdown",
   "source": "#### Best Threshold",
   "id": "9252fb03ccc2da94"
  },
  {
   "metadata": {
    "ExecuteTime": {
     "end_time": "2025-05-12T10:49:14.685846Z",
     "start_time": "2025-05-12T10:49:14.629121Z"
    }
   },
   "cell_type": "code",
   "source": [
    "# Probabilità predette per la classe positiva\n",
    "y_pred_proba_linear_c = grid_search_linear_c.predict_proba(X_test_filtered)[:, 1]\n",
    "\n",
    "# Calcolo fpr, tpr, thresholds\n",
    "fpr, tpr, thresholds = roc_curve(y_test, y_pred_proba_linear_c)\n",
    "\n",
    "# Youden's J statistic\n",
    "best_threshold = thresholds[np.argmax(np.abs(fpr - tpr))]\n",
    "\n",
    "print(f\"Best threshold: {best_threshold:.3f}\")\n",
    "\n",
    "# Riclassificazione con soglia ottimale\n",
    "y_pred_linear_BT_c = np.where(y_pred_proba_linear_c >= best_threshold, 1, -1)\n",
    "\n",
    "cm_y_pred_linear_BT_c = confusion_matrix(y_test, y_pred_linear_BT_c)\n",
    "cm_y_pred_linear_BT_c\n",
    "\n",
    "# plot\n",
    "plt.figure(figsize=(6, 4))\n",
    "sns.heatmap(cm_y_pred_linear_BT_c, annot=True, fmt='d', cmap='Blues',\n",
    "            xticklabels=[-1, 1], yticklabels=[-1, 1])\n",
    "\n",
    "plt.xlabel('Predicted Label')\n",
    "plt.ylabel('True Label')\n",
    "plt.title('Confusion Matrix (SVM Linear, Best Threshold filtered dataset)')\n",
    "plt.tight_layout()\n",
    "plt.show()"
   ],
   "id": "19db103c9fe9e3df",
   "outputs": [
    {
     "name": "stdout",
     "output_type": "stream",
     "text": [
      "Best threshold: 0.423\n"
     ]
    },
    {
     "data": {
      "text/plain": [
       "<Figure size 600x400 with 2 Axes>"
      ],
      "image/png": "[encoded data removed]"
     },
     "metadata": {},
     "output_type": "display_data"
    }
   ],
   "execution_count": 181
  },
  {
   "metadata": {
    "ExecuteTime": {
     "end_time": "2025-05-12T10:49:17.380759Z",
     "start_time": "2025-05-12T10:49:17.372269Z"
    }
   },
   "cell_type": "code",
   "source": [
    "# Calcolo metriche\n",
    "acc = accuracy_score(y_test, y_pred_linear_BT_c)\n",
    "prec = precision_score(y_test, y_pred_linear_BT_c, pos_label=1)\n",
    "rec = recall_score(y_test, y_pred_linear_BT_c, pos_label=1)\n",
    "f1 = f1_score(y_test, y_pred_linear_BT_c, pos_label=1)\n",
    "\n",
    "# Creazione tabella con pandas\n",
    "metrics_df = pd.DataFrame({\n",
    "    \"Metric\": [\"Accuracy\", \"Precision\", \"Recall\", \"F1-score\"],\n",
    "    \"New_Score\": [acc, prec, rec, f1],\n",
    "    \"Old_score\": [acc_linear, precision_linear, recall_linear, f1_linear]\n",
    "})\n",
    "\n",
    "metrics_df"
   ],
   "id": "d9178e1e987a690",
   "outputs": [
    {
     "data": {
      "text/plain": [
       "      Metric  New_Score  Old_score\n",
       "0   Accuracy   0.875000   0.750000\n",
       "1  Precision   0.857143   0.800000\n",
       "2     Recall   0.857143   0.571429\n",
       "3   F1-score   0.857143   0.666667"
      ],
      "text/html": [
       "<div>\n",
       "<style scoped>\n",
       "    .dataframe tbody tr th:only-of-type {\n",
       "        vertical-align: middle;\n",
       "    }\n",
       "\n",
       "    .dataframe tbody tr th {\n",
       "        vertical-align: top;\n",
       "    }\n",
       "\n",
       "    .dataframe thead th {\n",
       "        text-align: right;\n",
       "    }\n",
       "</style>\n",
       "<table border=\"1\" class=\"dataframe\">\n",
       "  <thead>\n",
       "    <tr style=\"text-align: right;\">\n",
       "      <th></th>\n",
       "      <th>Metric</th>\n",
       "      <th>New_Score</th>\n",
       "      <th>Old_score</th>\n",
       "    </tr>\n",
       "  </thead>\n",
       "  <tbody>\n",
       "    <tr>\n",
       "      <th>0</th>\n",
       "      <td>Accuracy</td>\n",
       "      <td>0.875000</td>\n",
       "      <td>0.750000</td>\n",
       "    </tr>\n",
       "    <tr>\n",
       "      <th>1</th>\n",
       "      <td>Precision</td>\n",
       "      <td>0.857143</td>\n",
       "      <td>0.800000</td>\n",
       "    </tr>\n",
       "    <tr>\n",
       "      <th>2</th>\n",
       "      <td>Recall</td>\n",
       "      <td>0.857143</td>\n",
       "      <td>0.571429</td>\n",
       "    </tr>\n",
       "    <tr>\n",
       "      <th>3</th>\n",
       "      <td>F1-score</td>\n",
       "      <td>0.857143</td>\n",
       "      <td>0.666667</td>\n",
       "    </tr>\n",
       "  </tbody>\n",
       "</table>\n",
       "</div>"
      ]
     },
     "execution_count": 182,
     "metadata": {},
     "output_type": "execute_result"
    }
   ],
   "execution_count": 182
  },
  {
   "metadata": {
    "ExecuteTime": {
     "end_time": "2025-05-12T10:49:19.768238Z",
     "start_time": "2025-05-12T10:49:19.761567Z"
    }
   },
   "cell_type": "code",
   "source": [
    "# Probabilità predette per la classe positiva\n",
    "y_pred_proba_gaussian_c = grid_search_gaussian_c.predict_proba(X_test_filtered)[:, 1]\n",
    "\n",
    "# Calcolo fpr, tpr, thresholds\n",
    "fpr, tpr, thresholds = roc_curve(y_test, y_pred_proba_gaussian_c)\n",
    "\n",
    "# Youden's J statistic\n",
    "best_threshold = thresholds[np.argmax(np.abs(fpr - tpr))]\n",
    "\n",
    "print(f\"Best threshold: {best_threshold:.3f}\")\n",
    "\n",
    "# Riclassificazione con soglia ottimale\n",
    "y_pred_gaussian_BT_c = np.where(y_pred_proba_gaussian_c >= best_threshold, 1, -1)\n",
    "\n",
    "cm_y_pred_gaussian_BT_c = confusion_matrix(y_test, y_pred_linear_BT_c)\n",
    "cm_y_pred_gaussian_BT_c"
   ],
   "id": "e58023108923f735",
   "outputs": [
    {
     "name": "stdout",
     "output_type": "stream",
     "text": [
      "Best threshold: 0.411\n"
     ]
    },
    {
     "data": {
      "text/plain": [
       "array([[8, 1],\n",
       "       [1, 6]])"
      ]
     },
     "execution_count": 183,
     "metadata": {},
     "output_type": "execute_result"
    }
   ],
   "execution_count": 183
  },
  {
   "metadata": {
    "ExecuteTime": {
     "end_time": "2025-05-12T10:49:46.488988Z",
     "start_time": "2025-05-12T10:49:46.481539Z"
    }
   },
   "cell_type": "code",
   "source": [
    "acc = accuracy_score(y_test, y_pred_gaussian_BT_c)\n",
    "prec = precision_score(y_test, y_pred_gaussian_BT_c, pos_label=1)\n",
    "rec = recall_score(y_test, y_pred_gaussian_BT_c, pos_label=1)\n",
    "f1 = f1_score(y_test, y_pred_gaussian_BT_c, pos_label=1)\n",
    "\n",
    "# Creazione tabella con pandas\n",
    "metrics_df = pd.DataFrame({\n",
    "    \"Metric\": [\"Accuracy\", \"Precision\", \"Recall\", \"F1-score\"],\n",
    "    \"New_Score\": [acc, prec, rec, f1],\n",
    "    \"Old_score\": [acc_rbf, precision_rbf, recall_rbf, f1_rbf]\n",
    "})\n",
    "\n",
    "metrics_df"
   ],
   "id": "337de67efc65226a",
   "outputs": [
    {
     "data": {
      "text/plain": [
       "      Metric  New_Score  Old_score\n",
       "0   Accuracy   0.812500   0.812500\n",
       "1  Precision   0.833333   1.000000\n",
       "2     Recall   0.714286   0.571429\n",
       "3   F1-score   0.769231   0.727273"
      ],
      "text/html": [
       "<div>\n",
       "<style scoped>\n",
       "    .dataframe tbody tr th:only-of-type {\n",
       "        vertical-align: middle;\n",
       "    }\n",
       "\n",
       "    .dataframe tbody tr th {\n",
       "        vertical-align: top;\n",
       "    }\n",
       "\n",
       "    .dataframe thead th {\n",
       "        text-align: right;\n",
       "    }\n",
       "</style>\n",
       "<table border=\"1\" class=\"dataframe\">\n",
       "  <thead>\n",
       "    <tr style=\"text-align: right;\">\n",
       "      <th></th>\n",
       "      <th>Metric</th>\n",
       "      <th>New_Score</th>\n",
       "      <th>Old_score</th>\n",
       "    </tr>\n",
       "  </thead>\n",
       "  <tbody>\n",
       "    <tr>\n",
       "      <th>0</th>\n",
       "      <td>Accuracy</td>\n",
       "      <td>0.812500</td>\n",
       "      <td>0.812500</td>\n",
       "    </tr>\n",
       "    <tr>\n",
       "      <th>1</th>\n",
       "      <td>Precision</td>\n",
       "      <td>0.833333</td>\n",
       "      <td>1.000000</td>\n",
       "    </tr>\n",
       "    <tr>\n",
       "      <th>2</th>\n",
       "      <td>Recall</td>\n",
       "      <td>0.714286</td>\n",
       "      <td>0.571429</td>\n",
       "    </tr>\n",
       "    <tr>\n",
       "      <th>3</th>\n",
       "      <td>F1-score</td>\n",
       "      <td>0.769231</td>\n",
       "      <td>0.727273</td>\n",
       "    </tr>\n",
       "  </tbody>\n",
       "</table>\n",
       "</div>"
      ]
     },
     "execution_count": 185,
     "metadata": {},
     "output_type": "execute_result"
    }
   ],
   "execution_count": 185
  }
 ],
 "metadata": {
  "kernelspec": {
   "display_name": "Python 3 (ipykernel)",
   "language": "python",
   "name": "python3"
  },
  "language_info": {
   "codemirror_mode": {
    "name": "ipython",
    "version": 3
   },
   "file_extension": ".py",
   "mimetype": "text/x-python",
   "name": "python",
   "nbconvert_exporter": "python",
   "pygments_lexer": "ipython3",
   "version": "3.13.0"
  }
 },
 "nbformat": 4,
 "nbformat_minor": 5
}
