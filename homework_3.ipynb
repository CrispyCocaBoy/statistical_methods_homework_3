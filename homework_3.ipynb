{
 "cells": [
  {
   "cell_type": "markdown",
   "id": "66780cf5cf228ed3",
   "metadata": {},
   "source": [
    "# Leukemia patient classifier\n"
   ]
  },
  {
   "cell_type": "markdown",
   "id": "853f5a350a13f7c4",
   "metadata": {},
   "source": [
    "## Introduction\n",
    "This project focuses on classifying leukemia patients into two subgroups based on gene expression data: those with a chromosomal translocation (1) and those cytogenetically normal (-1). The dataset includes 79 patients and expression levels for 2,000 genes.\n",
    "\n",
    "We apply supervised learning using Support Vector Machines (SVMs) to predict patient subgroups. Multiple kernel types (linear, polynomial, RBF) are tested with hyperparameter tuning via cross-validation. Additionally, we explore filtering the top 5% most variable genes to reduce noise and improve model performance."
   ]
  },
  {
   "cell_type": "code",
   "id": "initial_id",
   "metadata": {
    "ExecuteTime": {
     "end_time": "2025-05-11T12:28:18.753788Z",
     "start_time": "2025-05-11T12:28:18.747718Z"
    }
   },
   "source": [
    "import numpy as np\n",
    "from matplotlib import pyplot as plt  # import subplots, cm\n",
    "import sklearn.model_selection as skm\n",
    "import pandas as pd\n",
    "import seaborn as sns\n"
   ],
   "outputs": [],
   "execution_count": 936
  },
  {
   "cell_type": "markdown",
   "id": "991f35dd72880268",
   "metadata": {},
   "source": [
    "We begin by splitting the data into training and test sets using scikit-learn, allocating 20% of the data for testing. Each model is then trained and evaluated on the training set using cross-validation to ensure robust performance estimation."
   ]
  },
  {
   "cell_type": "code",
   "id": "22767c949e9654a6",
   "metadata": {
    "ExecuteTime": {
     "end_time": "2025-05-11T12:28:18.827233Z",
     "start_time": "2025-05-11T12:28:18.798364Z"
    }
   },
   "source": [
    "# Dataset\n",
    "data = pd.read_csv(\"gene_expr.tsv\", sep=\"\\t\")\n",
    "\n",
    "# Division X and Y\n",
    "X = data.drop(columns=[\"y\", \"sampleID\"])  # Remove sampleID\n",
    "y = data[\"y\"]\n",
    "\n",
    "# split in train e validation\n",
    "from sklearn.model_selection import train_test_split\n",
    "X_train, X_test, y_train, y_test = train_test_split(X, y, test_size=0.2, random_state=0, stratify=y)\n",
    "\n"
   ],
   "outputs": [],
   "execution_count": 937
  },
  {
   "cell_type": "code",
   "id": "cef77323b3b14e61",
   "metadata": {
    "ExecuteTime": {
     "end_time": "2025-05-11T12:28:18.862929Z",
     "start_time": "2025-05-11T12:28:18.830528Z"
    }
   },
   "source": [
    "# Check the balanced\n",
    "plt.hist(y, bins=[-1.5, -0.5, 0.5, 1.5], edgecolor='black', align='mid', rwidth=0.8)\n",
    "# Etichette asse x personalizzate\n",
    "plt.xticks([-1, 1], labels=['-1', '1'])\n",
    "plt.xlabel('Class')\n",
    "plt.ylabel('Frequency')\n",
    "plt.title('Distribution of (y)')\n",
    "plt.grid(True)\n",
    "plt.show()"
   ],
   "outputs": [
    {
     "data": {
      "text/plain": [
       "<Figure size 640x480 with 1 Axes>"
      ],
      "image/png": "[encoded data removed]"
     },
     "metadata": {},
     "output_type": "display_data"
    }
   ],
   "execution_count": 938
  },
  {
   "cell_type": "code",
   "id": "5d2483d419bed67f",
   "metadata": {
    "ExecuteTime": {
     "end_time": "2025-05-11T12:28:18.915356Z",
     "start_time": "2025-05-11T12:28:18.913852Z"
    }
   },
   "source": [
    "kfold = skm.KFold(10, random_state=0, shuffle=True)"
   ],
   "outputs": [],
   "execution_count": 939
  },
  {
   "cell_type": "markdown",
   "id": "b4e30f2c8aade67f",
   "metadata": {},
   "source": [
    "### Linear fit\n",
    "We first apply a Support Vector Machine with a linear kernel, which is often a suitable baseline for high-dimensional datasets like gene expression data. The regularization parameter C is optimized using cross-validation to balance model complexity and generalization performance.\n",
    "\n"
   ]
  },
  {
   "cell_type": "code",
   "id": "cf5a663de9fc7477",
   "metadata": {
    "ExecuteTime": {
     "end_time": "2025-05-11T12:28:20.634541Z",
     "start_time": "2025-05-11T12:28:18.920664Z"
    }
   },
   "source": [
    "# linear fit\n",
    "from sklearn.pipeline import Pipeline\n",
    "from sklearn.preprocessing import StandardScaler\n",
    "linear_svm_clf = Pipeline([\n",
    "    (\"scaler\", StandardScaler()),\n",
    "    (\"svm\", SVC(kernel=\"linear\", probability=True, random_state=0)),\n",
    "])\n",
    "\n",
    "## hyperparameter tuning\n",
    "from sklearn.model_selection import GridSearchCV\n",
    "parameters = {\"svm__C\":[0.001, 0.01, 0.1, 1, 10, 100, 1000]}\n",
    "\n",
    "grid_search_linear = GridSearchCV(\n",
    "    estimator = linear_svm_clf,\n",
    "    param_grid = parameters,\n",
    "    scoring= \"accuracy\",\n",
    "    n_jobs=-1,\n",
    "    refit=\"accuracy\",\n",
    "    cv= kfold,\n",
    ")\n",
    "grid_search_linear.fit(X_train, y_train)\n",
    "svm_linear_model = grid_search_linear.best_estimator_.named_steps[\"svm\"]\n"
   ],
   "outputs": [],
   "execution_count": 940
  },
  {
   "cell_type": "markdown",
   "id": "10610b248383cfd3",
   "metadata": {},
   "source": [
    "**Model description**\n",
    "The table below summarizes the main characteristics of the best-performing linear SVM model (`svm_linear_model`):"
   ]
  },
  {
   "cell_type": "code",
   "id": "357a04dcf0986346",
   "metadata": {
    "ExecuteTime": {
     "end_time": "2025-05-11T12:28:20.671095Z",
     "start_time": "2025-05-11T12:28:20.667288Z"
    }
   },
   "source": [
    "## Metric evaluation\n",
    "import pandas as pd\n",
    "\n",
    "# Estrai i valori desiderati\n",
    "n_support_vectors = svm_linear_model.support_vectors_.shape[0]\n",
    "support_per_class = svm_linear_model.n_support_\n",
    "best_score = grid_search_linear.best_score_\n",
    "best_params = grid_search_linear.best_params_\n",
    "\n",
    "# Crea un dizionario per la tabella\n",
    "svm_summary = {\n",
    "    \"Metric\": [\n",
    "        \"Total support vectors\",\n",
    "        \"Support vectors per class\",\n",
    "        \"Best CV score (accuracy)\",\n",
    "        \"Best hyperparameters\"\n",
    "    ],\n",
    "    \"Value\": [\n",
    "        n_support_vectors,\n",
    "        support_per_class.tolist(),\n",
    "        round(best_score, 3),\n",
    "        str(best_params)\n",
    "    ]\n",
    "}\n",
    "\n",
    "# Converti in DataFrame\n",
    "svm_df = pd.DataFrame(svm_summary)\n",
    "\n",
    "# Visualizza\n",
    "svm_df\n"
   ],
   "outputs": [
    {
     "data": {
      "text/plain": [
       "                      Metric              Value\n",
       "0      Total support vectors                 57\n",
       "1  Support vectors per class           [30, 27]\n",
       "2   Best CV score (accuracy)               0.81\n",
       "3       Best hyperparameters  {'svm__C': 0.001}"
      ],
      "text/html": [
       "<div>\n",
       "<style scoped>\n",
       "    .dataframe tbody tr th:only-of-type {\n",
       "        vertical-align: middle;\n",
       "    }\n",
       "\n",
       "    .dataframe tbody tr th {\n",
       "        vertical-align: top;\n",
       "    }\n",
       "\n",
       "    .dataframe thead th {\n",
       "        text-align: right;\n",
       "    }\n",
       "</style>\n",
       "<table border=\"1\" class=\"dataframe\">\n",
       "  <thead>\n",
       "    <tr style=\"text-align: right;\">\n",
       "      <th></th>\n",
       "      <th>Metric</th>\n",
       "      <th>Value</th>\n",
       "    </tr>\n",
       "  </thead>\n",
       "  <tbody>\n",
       "    <tr>\n",
       "      <th>0</th>\n",
       "      <td>Total support vectors</td>\n",
       "      <td>57</td>\n",
       "    </tr>\n",
       "    <tr>\n",
       "      <th>1</th>\n",
       "      <td>Support vectors per class</td>\n",
       "      <td>[30, 27]</td>\n",
       "    </tr>\n",
       "    <tr>\n",
       "      <th>2</th>\n",
       "      <td>Best CV score (accuracy)</td>\n",
       "      <td>0.81</td>\n",
       "    </tr>\n",
       "    <tr>\n",
       "      <th>3</th>\n",
       "      <td>Best hyperparameters</td>\n",
       "      <td>{'svm__C': 0.001}</td>\n",
       "    </tr>\n",
       "  </tbody>\n",
       "</table>\n",
       "</div>"
      ]
     },
     "execution_count": 941,
     "metadata": {},
     "output_type": "execute_result"
    }
   ],
   "execution_count": 941
  },
  {
   "cell_type": "code",
   "id": "38c9df446a59ecb1",
   "metadata": {
    "ExecuteTime": {
     "end_time": "2025-05-11T12:28:20.706886Z",
     "start_time": "2025-05-11T12:28:20.697647Z"
    }
   },
   "source": [
    "## Predictions\n",
    "y_pred_linear = grid_search_linear.predict(X_test)\n",
    "y_pred_proba_linear = grid_search_linear.predict_proba(X_test)[:, 1]"
   ],
   "outputs": [],
   "execution_count": 942
  },
  {
   "cell_type": "code",
   "id": "11eda906c6622264",
   "metadata": {
    "ExecuteTime": {
     "end_time": "2025-05-11T12:28:20.721931Z",
     "start_time": "2025-05-11T12:28:20.719795Z"
    }
   },
   "source": [
    "## Evaluation\n",
    "from sklearn.metrics import confusion_matrix\n",
    "cm_svm_linear_model = confusion_matrix(y_test, y_pred_linear)"
   ],
   "outputs": [],
   "execution_count": 943
  },
  {
   "cell_type": "markdown",
   "id": "d71f0409a9963cfa",
   "metadata": {},
   "source": [
    "### Polynomail kernel\n",
    "We then extend the linear model by applying a polynomial kernel, which allows the SVM to capture non-linear relationships between gene expression features. Both the regularization parameter C and the polynomial degree are tuned via cross-validation."
   ]
  },
  {
   "cell_type": "code",
   "id": "d81fca34dc88b629",
   "metadata": {
    "ExecuteTime": {
     "end_time": "2025-05-11T12:28:21.962346Z",
     "start_time": "2025-05-11T12:28:20.748038Z"
    }
   },
   "source": [
    "from sklearn.pipeline import Pipeline\n",
    "from sklearn.preprocessing import StandardScaler\n",
    "\n",
    "polynoaml_svm_clf = Pipeline([\n",
    "    (\"scaler\", StandardScaler()),\n",
    "    (\"svm\", SVC(kernel=\"poly\", probability=True, random_state=0)),\n",
    "])\n",
    "\n",
    "## hyperparameter tuning\n",
    "from sklearn.model_selection import GridSearchCV\n",
    "parameters = {\"svm__C\":[0.001, 0.01, 0.1, 1, 10, 100, 1000],\n",
    "              \"svm__degree\":[1,2,3,4,5,6]}\n",
    "\n",
    "grid_search_poly = GridSearchCV(\n",
    "    estimator = polynoaml_svm_clf,\n",
    "    param_grid= parameters,\n",
    "    scoring=\"accuracy\",\n",
    "    n_jobs=-1,\n",
    "    refit=\"accuracy\",\n",
    "    cv= kfold,\n",
    ")\n",
    "grid_search_poly.fit(X_train, y_train)\n",
    "svm_polynomial_model = grid_search_poly.best_estimator_.named_steps[\"svm\"]\n"
   ],
   "outputs": [],
   "execution_count": 944
  },
  {
   "cell_type": "code",
   "id": "754964d5efa589cb",
   "metadata": {
    "ExecuteTime": {
     "end_time": "2025-05-11T12:28:21.971131Z",
     "start_time": "2025-05-11T12:28:21.967422Z"
    }
   },
   "source": [
    "## Metric evaluation\n",
    "n_support_vectors = svm_polynomial_model.support_vectors_.shape[0]\n",
    "support_per_class = svm_polynomial_model.n_support_\n",
    "best_score = grid_search_poly.best_score_\n",
    "best_params = grid_search_poly.best_params_\n",
    "\n",
    "# Crea un dizionario per la tabella\n",
    "svm_summary = {\n",
    "    \"Metric\": [\n",
    "        \"Total support vectors\",\n",
    "        \"Support vectors per class\",\n",
    "        \"Best CV score (accuracy)\",\n",
    "        \"Best hyperparameters\"\n",
    "    ],\n",
    "    \"Value\": [\n",
    "        n_support_vectors,\n",
    "        support_per_class.tolist(),\n",
    "        round(best_score, 3),\n",
    "        str(best_params)\n",
    "    ]\n",
    "}\n",
    "\n",
    "# Converti in DataFrame\n",
    "svm_df = pd.DataFrame(svm_summary)\n",
    "\n",
    "# Visualizza\n",
    "svm_df"
   ],
   "outputs": [
    {
     "data": {
      "text/plain": [
       "                      Metric                             Value\n",
       "0      Total support vectors                                55\n",
       "1  Support vectors per class                          [29, 26]\n",
       "2   Best CV score (accuracy)                             0.743\n",
       "3       Best hyperparameters  {'svm__C': 10, 'svm__degree': 1}"
      ],
      "text/html": [
       "<div>\n",
       "<style scoped>\n",
       "    .dataframe tbody tr th:only-of-type {\n",
       "        vertical-align: middle;\n",
       "    }\n",
       "\n",
       "    .dataframe tbody tr th {\n",
       "        vertical-align: top;\n",
       "    }\n",
       "\n",
       "    .dataframe thead th {\n",
       "        text-align: right;\n",
       "    }\n",
       "</style>\n",
       "<table border=\"1\" class=\"dataframe\">\n",
       "  <thead>\n",
       "    <tr style=\"text-align: right;\">\n",
       "      <th></th>\n",
       "      <th>Metric</th>\n",
       "      <th>Value</th>\n",
       "    </tr>\n",
       "  </thead>\n",
       "  <tbody>\n",
       "    <tr>\n",
       "      <th>0</th>\n",
       "      <td>Total support vectors</td>\n",
       "      <td>55</td>\n",
       "    </tr>\n",
       "    <tr>\n",
       "      <th>1</th>\n",
       "      <td>Support vectors per class</td>\n",
       "      <td>[29, 26]</td>\n",
       "    </tr>\n",
       "    <tr>\n",
       "      <th>2</th>\n",
       "      <td>Best CV score (accuracy)</td>\n",
       "      <td>0.743</td>\n",
       "    </tr>\n",
       "    <tr>\n",
       "      <th>3</th>\n",
       "      <td>Best hyperparameters</td>\n",
       "      <td>{'svm__C': 10, 'svm__degree': 1}</td>\n",
       "    </tr>\n",
       "  </tbody>\n",
       "</table>\n",
       "</div>"
      ]
     },
     "execution_count": 945,
     "metadata": {},
     "output_type": "execute_result"
    }
   ],
   "execution_count": 945
  },
  {
   "cell_type": "code",
   "id": "5d901ec3d0f6b290",
   "metadata": {
    "ExecuteTime": {
     "end_time": "2025-05-11T12:28:22.021897Z",
     "start_time": "2025-05-11T12:28:22.012370Z"
    }
   },
   "source": [
    "## Predictions\n",
    "y_pred_poly = grid_search_poly.predict(X_test)\n",
    "y_pred_proba_poly = grid_search_poly.predict_proba(X_test)[:, 1]"
   ],
   "outputs": [],
   "execution_count": 946
  },
  {
   "cell_type": "code",
   "id": "a3dd23af874ef612",
   "metadata": {
    "ExecuteTime": {
     "end_time": "2025-05-11T12:28:22.039479Z",
     "start_time": "2025-05-11T12:28:22.037541Z"
    }
   },
   "source": [
    "## Evaluation\n",
    "from sklearn.metrics import confusion_matrix\n",
    "cm_svm_polynomial_model = confusion_matrix(y_test, y_pred_poly)"
   ],
   "outputs": [],
   "execution_count": 947
  },
  {
   "cell_type": "markdown",
   "id": "67549b10504eb005",
   "metadata": {},
   "source": [
    "### Gaussian kernel\n",
    "Finally, we apply a Gaussian (RBF) kernel SVM, which is well suited for capturing complex and non-linear patterns in the data. We tune both the regularization parameter C and the kernel coefficient gamma using cross-validation."
   ]
  },
  {
   "cell_type": "code",
   "id": "c712de26f9de6609",
   "metadata": {
    "ExecuteTime": {
     "end_time": "2025-05-11T12:28:23.242288Z",
     "start_time": "2025-05-11T12:28:22.076036Z"
    }
   },
   "source": [
    "from sklearn.pipeline import Pipeline\n",
    "from sklearn.preprocessing import StandardScaler\n",
    "\n",
    "gaussian_svm_clf = Pipeline([\n",
    "    (\"scaler\", StandardScaler()),\n",
    "    (\"svm\", SVC(kernel=\"rbf\", probability=True, random_state=0)),\n",
    "])\n",
    "\n",
    "## hyperparameter tuning\n",
    "from sklearn.model_selection import GridSearchCV\n",
    "parameters = {\"svm__C\":[0.001, 0.01, 0.1, 1, 10, 100, 1000],\n",
    "              \"svm__gamma\": [0.0001, 0.001, 0.01, 0.1, 1, 10]}\n",
    "\n",
    "grid_search_gaussian = GridSearchCV(\n",
    "    estimator = gaussian_svm_clf,\n",
    "    param_grid= parameters,\n",
    "    scoring=\"accuracy\",\n",
    "    n_jobs=-1,\n",
    "    refit=\"accuracy\",\n",
    "    cv=kfold,\n",
    ")\n",
    "grid_search_gaussian.fit(X_train, y_train)\n",
    "svm_gaussian_model = grid_search_gaussian.best_estimator_.named_steps[\"svm\"]"
   ],
   "outputs": [],
   "execution_count": 948
  },
  {
   "cell_type": "code",
   "id": "adec02ca35ce2933",
   "metadata": {
    "ExecuteTime": {
     "end_time": "2025-05-11T12:28:23.250060Z",
     "start_time": "2025-05-11T12:28:23.246609Z"
    }
   },
   "source": [
    "## Metric evaluation\n",
    "n_support_vectors = svm_gaussian_model.support_vectors_.shape[0]\n",
    "support_per_class = svm_gaussian_model.n_support_\n",
    "best_score = grid_search_gaussian.best_score_\n",
    "best_params = grid_search_gaussian.best_params_\n",
    "\n",
    "# Crea un dizionario per la tabella\n",
    "svm_summary = {\n",
    "    \"Metric\": [\n",
    "        \"Total support vectors\",\n",
    "        \"Support vectors per class\",\n",
    "        \"Best CV score (accuracy)\",\n",
    "        \"Best hyperparameters\"\n",
    "    ],\n",
    "    \"Value\": [\n",
    "        n_support_vectors,\n",
    "        support_per_class.tolist(),\n",
    "        round(best_score, 3),\n",
    "        str(best_params)\n",
    "    ]\n",
    "}\n",
    "\n",
    "# Converti in DataFrame\n",
    "svm_df = pd.DataFrame(svm_summary)\n",
    "\n",
    "# Visualizza\n",
    "svm_df"
   ],
   "outputs": [
    {
     "data": {
      "text/plain": [
       "                      Metric                                 Value\n",
       "0      Total support vectors                                    62\n",
       "1  Support vectors per class                              [32, 30]\n",
       "2   Best CV score (accuracy)                                 0.757\n",
       "3       Best hyperparameters  {'svm__C': 10, 'svm__gamma': 0.0001}"
      ],
      "text/html": [
       "<div>\n",
       "<style scoped>\n",
       "    .dataframe tbody tr th:only-of-type {\n",
       "        vertical-align: middle;\n",
       "    }\n",
       "\n",
       "    .dataframe tbody tr th {\n",
       "        vertical-align: top;\n",
       "    }\n",
       "\n",
       "    .dataframe thead th {\n",
       "        text-align: right;\n",
       "    }\n",
       "</style>\n",
       "<table border=\"1\" class=\"dataframe\">\n",
       "  <thead>\n",
       "    <tr style=\"text-align: right;\">\n",
       "      <th></th>\n",
       "      <th>Metric</th>\n",
       "      <th>Value</th>\n",
       "    </tr>\n",
       "  </thead>\n",
       "  <tbody>\n",
       "    <tr>\n",
       "      <th>0</th>\n",
       "      <td>Total support vectors</td>\n",
       "      <td>62</td>\n",
       "    </tr>\n",
       "    <tr>\n",
       "      <th>1</th>\n",
       "      <td>Support vectors per class</td>\n",
       "      <td>[32, 30]</td>\n",
       "    </tr>\n",
       "    <tr>\n",
       "      <th>2</th>\n",
       "      <td>Best CV score (accuracy)</td>\n",
       "      <td>0.757</td>\n",
       "    </tr>\n",
       "    <tr>\n",
       "      <th>3</th>\n",
       "      <td>Best hyperparameters</td>\n",
       "      <td>{'svm__C': 10, 'svm__gamma': 0.0001}</td>\n",
       "    </tr>\n",
       "  </tbody>\n",
       "</table>\n",
       "</div>"
      ]
     },
     "execution_count": 949,
     "metadata": {},
     "output_type": "execute_result"
    }
   ],
   "execution_count": 949
  },
  {
   "cell_type": "code",
   "id": "323f956cdd153644",
   "metadata": {
    "ExecuteTime": {
     "end_time": "2025-05-11T12:28:23.299838Z",
     "start_time": "2025-05-11T12:28:23.289260Z"
    }
   },
   "source": [
    "## Predictions\n",
    "y_pred_rbf = grid_search_gaussian.predict(X_test)\n",
    "y_pred_proba_rbf = grid_search_gaussian.predict_proba(X_test)[:, 1]"
   ],
   "outputs": [],
   "execution_count": 950
  },
  {
   "cell_type": "code",
   "id": "596caeaa82407f8d",
   "metadata": {
    "ExecuteTime": {
     "end_time": "2025-05-11T12:28:23.315549Z",
     "start_time": "2025-05-11T12:28:23.313558Z"
    }
   },
   "source": [
    "from sklearn.metrics import confusion_matrix\n",
    "cm_svm_gaussian_model = confusion_matrix(y_test, y_pred_rbf)\n"
   ],
   "outputs": [],
   "execution_count": 951
  },
  {
   "cell_type": "markdown",
   "id": "a78d62f7228fbcc2",
   "metadata": {},
   "source": [
    "### Comparison of the models\n"
   ]
  },
  {
   "cell_type": "code",
   "id": "718f90a4062f7f89",
   "metadata": {
    "ExecuteTime": {
     "end_time": "2025-05-11T12:28:23.386749Z",
     "start_time": "2025-05-11T12:28:23.347169Z"
    }
   },
   "source": [
    "from sklearn.metrics import roc_curve, auc\n",
    "import matplotlib.pyplot as plt\n",
    "\n",
    "# Calcolo delle curve ROC e AUC\n",
    "fpr_linear, tpr_linear, _ = roc_curve(y_test, y_pred_proba_linear)\n",
    "roc_auc_linear = auc(fpr_linear, tpr_linear)\n",
    "\n",
    "fpr_poly, tpr_poly, _ = roc_curve(y_test, y_pred_proba_poly)\n",
    "roc_auc_poly = auc(fpr_poly, tpr_poly)\n",
    "\n",
    "fpr_rbf, tpr_rbf, _ = roc_curve(y_test, y_pred_proba_rbf)\n",
    "roc_auc_rbf = auc(fpr_rbf, tpr_rbf)\n",
    "\n",
    "# Plot ROC curve sovrapposte\n",
    "plt.figure()\n",
    "plt.plot(fpr_linear, tpr_linear, lw=2, label=f'Linear SVM (AUC = {roc_auc_linear:.2f})')\n",
    "plt.plot(fpr_poly, tpr_poly, lw=2, label=f'Poly SVM (AUC = {roc_auc_poly:.2f})')\n",
    "plt.plot(fpr_rbf, tpr_rbf, lw=2, label=f'RBF SVM (AUC = {roc_auc_rbf:.2f})')\n",
    "plt.plot([0, 1], [0, 1], color='gray', lw=2, linestyle='--')  # random classifier line\n",
    "\n",
    "# Layout\n",
    "plt.xlim([0.0, 1.0])\n",
    "plt.ylim([0.0, 1.05])\n",
    "plt.xlabel('False Positive Rate')\n",
    "plt.ylabel('True Positive Rate')\n",
    "plt.title('ROC Curve Comparison')\n",
    "plt.legend(loc=\"lower right\")\n",
    "plt.grid()\n",
    "plt.show()\n"
   ],
   "outputs": [
    {
     "data": {
      "text/plain": [
       "<Figure size 640x480 with 1 Axes>"
      ],
      "image/png": "[encoded data removed]"
     },
     "metadata": {},
     "output_type": "display_data"
    }
   ],
   "execution_count": 952
  },
  {
   "cell_type": "code",
   "id": "77765c90be7d3a57",
   "metadata": {
    "ExecuteTime": {
     "end_time": "2025-05-11T12:28:23.403681Z",
     "start_time": "2025-05-11T12:28:23.390363Z"
    }
   },
   "source": [
    "from sklearn.metrics import accuracy_score, roc_auc_score, precision_score, recall_score, f1_score\n",
    "import pandas as pd\n",
    "\n",
    "# Calcolo delle metriche per ciascun modello\n",
    "acc_linear = accuracy_score(y_test, y_pred_linear)\n",
    "acc_poly = accuracy_score(y_test, y_pred_poly)\n",
    "acc_rbf = accuracy_score(y_test, y_pred_rbf)\n",
    "\n",
    "roc_linear = roc_auc_score(y_test, y_pred_proba_linear)\n",
    "roc_poly = roc_auc_score(y_test, y_pred_proba_poly)\n",
    "roc_rbf = roc_auc_score(y_test, y_pred_proba_rbf)\n",
    "\n",
    "precision_linear = precision_score(y_test, y_pred_linear)\n",
    "precision_poly = precision_score(y_test, y_pred_poly)\n",
    "precision_rbf = precision_score(y_test, y_pred_rbf)\n",
    "\n",
    "recall_linear = recall_score(y_test, y_pred_linear)\n",
    "recall_poly = recall_score(y_test, y_pred_poly)\n",
    "recall_rbf = recall_score(y_test, y_pred_rbf)\n",
    "\n",
    "f1_linear = f1_score(y_test, y_pred_linear)\n",
    "f1_poly = f1_score(y_test, y_pred_poly)\n",
    "f1_rbf = f1_score(y_test, y_pred_rbf)\n",
    "\n",
    "# Creazione della tabella\n",
    "results_df = pd.DataFrame({\n",
    "    \"Model\": [\"Linear SVM\", \"Poly SVM\", \"RBF SVM\"],\n",
    "    \"Accuracy\": [acc_linear, acc_poly, acc_rbf],\n",
    "    \"ROC AUC\": [roc_linear, roc_poly, roc_rbf],\n",
    "    \"Precision\": [precision_linear, precision_poly, precision_rbf],\n",
    "    \"Recall\": [recall_linear, recall_poly, recall_rbf],\n",
    "    \"F1-score\": [f1_linear, f1_poly, f1_rbf]\n",
    "})\n",
    "\n",
    "# Visualizza la tabella\n",
    "df = pd.DataFrame(results_df)\n",
    "df\n",
    "\n",
    "\n"
   ],
   "outputs": [
    {
     "data": {
      "text/plain": [
       "        Model  Accuracy   ROC AUC  Precision    Recall  F1-score\n",
       "0  Linear SVM    0.7500  0.809524   0.800000  0.571429  0.666667\n",
       "1    Poly SVM    0.6875  0.809524   0.666667  0.571429  0.615385\n",
       "2     RBF SVM    0.6875  0.761905   0.666667  0.571429  0.615385"
      ],
      "text/html": [
       "<div>\n",
       "<style scoped>\n",
       "    .dataframe tbody tr th:only-of-type {\n",
       "        vertical-align: middle;\n",
       "    }\n",
       "\n",
       "    .dataframe tbody tr th {\n",
       "        vertical-align: top;\n",
       "    }\n",
       "\n",
       "    .dataframe thead th {\n",
       "        text-align: right;\n",
       "    }\n",
       "</style>\n",
       "<table border=\"1\" class=\"dataframe\">\n",
       "  <thead>\n",
       "    <tr style=\"text-align: right;\">\n",
       "      <th></th>\n",
       "      <th>Model</th>\n",
       "      <th>Accuracy</th>\n",
       "      <th>ROC AUC</th>\n",
       "      <th>Precision</th>\n",
       "      <th>Recall</th>\n",
       "      <th>F1-score</th>\n",
       "    </tr>\n",
       "  </thead>\n",
       "  <tbody>\n",
       "    <tr>\n",
       "      <th>0</th>\n",
       "      <td>Linear SVM</td>\n",
       "      <td>0.7500</td>\n",
       "      <td>0.809524</td>\n",
       "      <td>0.800000</td>\n",
       "      <td>0.571429</td>\n",
       "      <td>0.666667</td>\n",
       "    </tr>\n",
       "    <tr>\n",
       "      <th>1</th>\n",
       "      <td>Poly SVM</td>\n",
       "      <td>0.6875</td>\n",
       "      <td>0.809524</td>\n",
       "      <td>0.666667</td>\n",
       "      <td>0.571429</td>\n",
       "      <td>0.615385</td>\n",
       "    </tr>\n",
       "    <tr>\n",
       "      <th>2</th>\n",
       "      <td>RBF SVM</td>\n",
       "      <td>0.6875</td>\n",
       "      <td>0.761905</td>\n",
       "      <td>0.666667</td>\n",
       "      <td>0.571429</td>\n",
       "      <td>0.615385</td>\n",
       "    </tr>\n",
       "  </tbody>\n",
       "</table>\n",
       "</div>"
      ]
     },
     "execution_count": 953,
     "metadata": {},
     "output_type": "execute_result"
    }
   ],
   "execution_count": 953
  },
  {
   "cell_type": "markdown",
   "id": "b53d3ca1c00ae657",
   "metadata": {},
   "source": [
    "From the metrics and from the ROC-curve it seems that the best model is the RBF SV"
   ]
  },
  {
   "cell_type": "code",
   "id": "1b0586e936bfda9",
   "metadata": {
    "ExecuteTime": {
     "end_time": "2025-05-11T12:28:23.565404Z",
     "start_time": "2025-05-11T12:28:23.443385Z"
    }
   },
   "source": [
    "# Comparison throught Confusion matrix\n",
    "plt.figure(figsize=(15, 4))\n",
    "\n",
    "# Linear SVM\n",
    "plt.subplot(1, 3, 1)  # 1 riga, 3 colonne, posizione 1\n",
    "sns.heatmap(cm_svm_linear_model, annot=True, fmt='d', cmap='Blues')\n",
    "plt.title(\"Linear SVM\")\n",
    "plt.xlabel(\"Predicted\")\n",
    "plt.ylabel(\"True\")\n",
    "\n",
    "# Polynomial SVM\n",
    "plt.subplot(1, 3, 2)  # 1 riga, 3 colonne, posizione 2\n",
    "sns.heatmap(cm_svm_polynomial_model, annot=True, fmt='d', cmap='Blues')\n",
    "plt.title(\"Polynomial SVM\")\n",
    "plt.xlabel(\"Predicted\")\n",
    "plt.ylabel(\"\")\n",
    "\n",
    "# Gaussian/RBF SVM\n",
    "plt.subplot(1, 3, 3)  # 1 riga, 3 colonne, posizione 3\n",
    "sns.heatmap(cm_svm_gaussian_model, annot=True, fmt='d', cmap='Blues')\n",
    "plt.title(\"RBF SVM\")\n",
    "plt.xlabel(\"Predicted\")\n",
    "plt.ylabel(\"\")\n",
    "\n",
    "# Layout\n",
    "plt.tight_layout()\n",
    "plt.suptitle(\"Confusion Matrix Comparison Across SVM Kernels\", y=1.05)\n",
    "plt.show()\n",
    "\n"
   ],
   "outputs": [
    {
     "data": {
      "text/plain": [
       "<Figure size 1500x400 with 6 Axes>"
      ],
      "image/png": "[encoded data removed]"
     },
     "metadata": {},
     "output_type": "display_data"
    }
   ],
   "execution_count": 954
  },
  {
   "cell_type": "markdown",
   "id": "cb86dac67d728261",
   "metadata": {},
   "source": [
    "## Variance deletion\n",
    "A popular approach in gene expression analysis is to keep only the most variable genes for downstream\n",
    "analysis. Since most of the 2K genes have low expression or do not vary much across the experiments,\n",
    "this step usually minimizes the contribution of noise. Select then only genes whose standard deviation\n",
    "is among the top 5% and repeat the analyses performed in the previous task on the filtered data set."
   ]
  },
  {
   "cell_type": "code",
   "id": "7e7d950eba036277",
   "metadata": {
    "ExecuteTime": {
     "end_time": "2025-05-11T12:28:23.583795Z",
     "start_time": "2025-05-11T12:28:23.580519Z"
    }
   },
   "source": [
    "# Compute standard deviation of genes on X_train\n",
    "stds = X_train.std(axis=0)\n",
    "# Select top 5% most variable genes\n",
    "top_genes = stds.sort_values(ascending=False).head(int(0.05 * len(stds))).index\n",
    "\n",
    "# Filter both train and test on these genes\n",
    "X_train_filtered = X_train[top_genes]\n",
    "X_test_filtered = X_test[top_genes]\n"
   ],
   "outputs": [],
   "execution_count": 955
  },
  {
   "metadata": {
    "ExecuteTime": {
     "end_time": "2025-05-11T12:28:23.591397Z",
     "start_time": "2025-05-11T12:28:23.589463Z"
    }
   },
   "cell_type": "code",
   "source": "len(top_genes)",
   "id": "385b4edf16fccc09",
   "outputs": [
    {
     "data": {
      "text/plain": [
       "100"
      ]
     },
     "execution_count": 956,
     "metadata": {},
     "output_type": "execute_result"
    }
   ],
   "execution_count": 956
  },
  {
   "cell_type": "markdown",
   "id": "2b63b6bdbbf56432",
   "metadata": {},
   "source": [
    "### Linear"
   ]
  },
  {
   "cell_type": "code",
   "id": "b17ccb44427cf60b",
   "metadata": {
    "ExecuteTime": {
     "end_time": "2025-05-11T12:28:23.690328Z",
     "start_time": "2025-05-11T12:28:23.620049Z"
    }
   },
   "source": [
    "from sklearn.pipeline import Pipeline\n",
    "from sklearn.preprocessing import StandardScaler\n",
    "linear_svm_clf = Pipeline([\n",
    "    (\"scaler\", StandardScaler()),\n",
    "    (\"svm\", SVC(kernel=\"linear\", probability=True, random_state=0)),\n",
    "])\n",
    "\n",
    "## hyperparameter tuning\n",
    "from sklearn.model_selection import GridSearchCV\n",
    "parameters = {\"svm__C\":[0.001, 0.01, 0.1, 1, 10, 100, 1000]}\n",
    "\n",
    "grid_search_linear_c = GridSearchCV(\n",
    "    estimator = linear_svm_clf,\n",
    "    param_grid = parameters,\n",
    "    scoring= \"accuracy\",\n",
    "    n_jobs=-1,\n",
    "    refit=\"accuracy\",\n",
    "    cv= kfold,\n",
    ")\n",
    "grid_search_linear_c.fit(X_train_filtered, y_train)\n",
    "svm_linear_model_c = grid_search_linear_c.best_estimator_.named_steps[\"svm\"]"
   ],
   "outputs": [],
   "execution_count": 957
  },
  {
   "cell_type": "code",
   "id": "83062e423b39b680",
   "metadata": {
    "ExecuteTime": {
     "end_time": "2025-05-11T12:28:23.720027Z",
     "start_time": "2025-05-11T12:28:23.716536Z"
    }
   },
   "source": [
    "# Metric evaluation\n",
    "n_support_vectors = svm_linear_model_c.support_vectors_.shape[0]\n",
    "support_per_class = svm_linear_model_c.n_support_\n",
    "best_score = grid_search_linear_c.best_score_\n",
    "best_params = grid_search_linear_c.best_params_\n",
    "\n",
    "# Crea un dizionario per la tabella\n",
    "svm_summary = {\n",
    "    \"Metric\": [\n",
    "        \"Total support vectors\",\n",
    "        \"Support vectors per class\",\n",
    "        \"Best CV score (accuracy)\",\n",
    "        \"Best hyperparameters\"\n",
    "    ],\n",
    "    \"Value\": [\n",
    "        n_support_vectors,\n",
    "        support_per_class.tolist(),\n",
    "        round(best_score, 3),\n",
    "        str(best_params)\n",
    "    ]\n",
    "}\n",
    "\n",
    "# Converti in DataFrame\n",
    "svm_df = pd.DataFrame(svm_summary)\n",
    "\n",
    "# Visualizza\n",
    "svm_df"
   ],
   "outputs": [
    {
     "data": {
      "text/plain": [
       "                      Metric            Value\n",
       "0      Total support vectors               35\n",
       "1  Support vectors per class         [16, 19]\n",
       "2   Best CV score (accuracy)            0.826\n",
       "3       Best hyperparameters  {'svm__C': 0.1}"
      ],
      "text/html": [
       "<div>\n",
       "<style scoped>\n",
       "    .dataframe tbody tr th:only-of-type {\n",
       "        vertical-align: middle;\n",
       "    }\n",
       "\n",
       "    .dataframe tbody tr th {\n",
       "        vertical-align: top;\n",
       "    }\n",
       "\n",
       "    .dataframe thead th {\n",
       "        text-align: right;\n",
       "    }\n",
       "</style>\n",
       "<table border=\"1\" class=\"dataframe\">\n",
       "  <thead>\n",
       "    <tr style=\"text-align: right;\">\n",
       "      <th></th>\n",
       "      <th>Metric</th>\n",
       "      <th>Value</th>\n",
       "    </tr>\n",
       "  </thead>\n",
       "  <tbody>\n",
       "    <tr>\n",
       "      <th>0</th>\n",
       "      <td>Total support vectors</td>\n",
       "      <td>35</td>\n",
       "    </tr>\n",
       "    <tr>\n",
       "      <th>1</th>\n",
       "      <td>Support vectors per class</td>\n",
       "      <td>[16, 19]</td>\n",
       "    </tr>\n",
       "    <tr>\n",
       "      <th>2</th>\n",
       "      <td>Best CV score (accuracy)</td>\n",
       "      <td>0.826</td>\n",
       "    </tr>\n",
       "    <tr>\n",
       "      <th>3</th>\n",
       "      <td>Best hyperparameters</td>\n",
       "      <td>{'svm__C': 0.1}</td>\n",
       "    </tr>\n",
       "  </tbody>\n",
       "</table>\n",
       "</div>"
      ]
     },
     "execution_count": 958,
     "metadata": {},
     "output_type": "execute_result"
    }
   ],
   "execution_count": 958
  },
  {
   "cell_type": "code",
   "id": "2d2b32149c8ee912",
   "metadata": {
    "ExecuteTime": {
     "end_time": "2025-05-11T12:28:23.762220Z",
     "start_time": "2025-05-11T12:28:23.758950Z"
    }
   },
   "source": [
    "## Predictions\n",
    "y_pred_linear_c = grid_search_linear_c.predict(X_test_filtered)\n",
    "y_pred_proba_linear_c = grid_search_linear_c.predict_proba(X_test_filtered)[:, 1]"
   ],
   "outputs": [],
   "execution_count": 959
  },
  {
   "cell_type": "code",
   "id": "3cb3957226bbdcfa",
   "metadata": {
    "ExecuteTime": {
     "end_time": "2025-05-11T12:28:23.780797Z",
     "start_time": "2025-05-11T12:28:23.778717Z"
    }
   },
   "source": [
    "## Evaluation\n",
    "from sklearn.metrics import confusion_matrix\n",
    "cm_grid_search_linear_c = confusion_matrix(y_test, y_pred_linear_c)"
   ],
   "outputs": [],
   "execution_count": 960
  },
  {
   "cell_type": "markdown",
   "id": "23ac6aae41107631",
   "metadata": {},
   "source": [
    "### Polynomial"
   ]
  },
  {
   "cell_type": "code",
   "id": "c982b8920cb554a9",
   "metadata": {
    "ExecuteTime": {
     "end_time": "2025-05-11T12:28:24.077956Z",
     "start_time": "2025-05-11T12:28:23.821783Z"
    }
   },
   "source": [
    "from sklearn.pipeline import Pipeline\n",
    "from sklearn.preprocessing import StandardScaler\n",
    "\n",
    "polynoaml_svm_clf = Pipeline([\n",
    "    (\"scaler\", StandardScaler()),\n",
    "    (\"svm\", SVC(kernel=\"poly\", probability=True, random_state=0)),\n",
    "])\n",
    "\n",
    "## hyperparameter tuning\n",
    "from sklearn.model_selection import GridSearchCV\n",
    "\n",
    "parameters = {\"svm__C\": [0.001, 0.01, 0.1, 1, 10, 100, 1000],\n",
    "              \"svm__degree\": [1, 2, 3, 4, 5, 6]}\n",
    "\n",
    "grid_search_poly_c = GridSearchCV(\n",
    "    estimator=polynoaml_svm_clf,\n",
    "    param_grid=parameters,\n",
    "    scoring=\"accuracy\",\n",
    "    n_jobs=-1,\n",
    "    refit=\"accuracy\",\n",
    "    cv=kfold,\n",
    ")\n",
    "grid_search_poly_c.fit(X_train_filtered, y_train)\n",
    "svm_poly_model_c = grid_search_poly_c.best_estimator_.named_steps[\"svm\"]"
   ],
   "outputs": [],
   "execution_count": 961
  },
  {
   "cell_type": "code",
   "id": "a9fa62c865a1d842",
   "metadata": {
    "ExecuteTime": {
     "end_time": "2025-05-11T12:28:24.114809Z",
     "start_time": "2025-05-11T12:28:24.111489Z"
    }
   },
   "source": [
    "# Metric evaluation\n",
    "n_support_vectors = svm_poly_model_c.support_vectors_.shape[0]\n",
    "support_per_class = svm_poly_model_c.n_support_\n",
    "best_score = grid_search_poly_c.best_score_\n",
    "best_params = grid_search_poly_c.best_params_\n",
    "\n",
    "# Crea un dizionario per la tabella\n",
    "svm_summary = {\n",
    "    \"Metric\": [\n",
    "        \"Total support vectors\",\n",
    "        \"Support vectors per class\",\n",
    "        \"Best CV score (accuracy)\",\n",
    "        \"Best hyperparameters\"\n",
    "    ],\n",
    "    \"Value\": [\n",
    "        n_support_vectors,\n",
    "        support_per_class.tolist(),\n",
    "        round(best_score, 3),\n",
    "        str(best_params)\n",
    "    ]\n",
    "}\n",
    "\n",
    "# Converti in DataFrame\n",
    "svm_df = pd.DataFrame(svm_summary)\n",
    "\n",
    "# Visualizza\n",
    "svm_df"
   ],
   "outputs": [
    {
     "data": {
      "text/plain": [
       "                      Metric                             Value\n",
       "0      Total support vectors                                35\n",
       "1  Support vectors per class                          [16, 19]\n",
       "2   Best CV score (accuracy)                             0.826\n",
       "3       Best hyperparameters  {'svm__C': 10, 'svm__degree': 1}"
      ],
      "text/html": [
       "<div>\n",
       "<style scoped>\n",
       "    .dataframe tbody tr th:only-of-type {\n",
       "        vertical-align: middle;\n",
       "    }\n",
       "\n",
       "    .dataframe tbody tr th {\n",
       "        vertical-align: top;\n",
       "    }\n",
       "\n",
       "    .dataframe thead th {\n",
       "        text-align: right;\n",
       "    }\n",
       "</style>\n",
       "<table border=\"1\" class=\"dataframe\">\n",
       "  <thead>\n",
       "    <tr style=\"text-align: right;\">\n",
       "      <th></th>\n",
       "      <th>Metric</th>\n",
       "      <th>Value</th>\n",
       "    </tr>\n",
       "  </thead>\n",
       "  <tbody>\n",
       "    <tr>\n",
       "      <th>0</th>\n",
       "      <td>Total support vectors</td>\n",
       "      <td>35</td>\n",
       "    </tr>\n",
       "    <tr>\n",
       "      <th>1</th>\n",
       "      <td>Support vectors per class</td>\n",
       "      <td>[16, 19]</td>\n",
       "    </tr>\n",
       "    <tr>\n",
       "      <th>2</th>\n",
       "      <td>Best CV score (accuracy)</td>\n",
       "      <td>0.826</td>\n",
       "    </tr>\n",
       "    <tr>\n",
       "      <th>3</th>\n",
       "      <td>Best hyperparameters</td>\n",
       "      <td>{'svm__C': 10, 'svm__degree': 1}</td>\n",
       "    </tr>\n",
       "  </tbody>\n",
       "</table>\n",
       "</div>"
      ]
     },
     "execution_count": 962,
     "metadata": {},
     "output_type": "execute_result"
    }
   ],
   "execution_count": 962
  },
  {
   "cell_type": "code",
   "id": "3f27e1a671146313",
   "metadata": {
    "ExecuteTime": {
     "end_time": "2025-05-11T12:28:24.136690Z",
     "start_time": "2025-05-11T12:28:24.133290Z"
    }
   },
   "source": [
    "## Predictions\n",
    "y_pred_poly_c = grid_search_poly_c.predict(X_test_filtered)\n",
    "y_pred_proba_poly_c = grid_search_poly_c.predict_proba(X_test_filtered)[:, 1]\n"
   ],
   "outputs": [],
   "execution_count": 963
  },
  {
   "cell_type": "code",
   "id": "ccd9a1498901b91d",
   "metadata": {
    "ExecuteTime": {
     "end_time": "2025-05-11T12:28:24.155429Z",
     "start_time": "2025-05-11T12:28:24.153312Z"
    }
   },
   "source": [
    "## Evaluation\n",
    "from sklearn.metrics import confusion_matrix\n",
    "cm_svm_poly_model_c = confusion_matrix(y_test, y_pred_poly_c)\n"
   ],
   "outputs": [],
   "execution_count": 964
  },
  {
   "cell_type": "markdown",
   "id": "52e0af013fe3c7ee",
   "metadata": {},
   "source": [
    "### Gaussian"
   ]
  },
  {
   "cell_type": "code",
   "id": "ee3f51f905092637",
   "metadata": {
    "ExecuteTime": {
     "end_time": "2025-05-11T12:28:24.425581Z",
     "start_time": "2025-05-11T12:28:24.194506Z"
    }
   },
   "source": [
    "from sklearn.pipeline import Pipeline\n",
    "from sklearn.preprocessing import StandardScaler\n",
    "\n",
    "gaussian_svm_clf = Pipeline([\n",
    "    (\"scaler\", StandardScaler()),\n",
    "    (\"svm\", SVC(kernel=\"rbf\", probability=True, random_state=0)),\n",
    "])\n",
    "\n",
    "## hyperparameter tuning\n",
    "from sklearn.model_selection import GridSearchCV\n",
    "\n",
    "parameters = {\"svm__C\": [0.001, 0.01, 0.1, 1, 10, 100, 1000],\n",
    "              \"svm__gamma\": [0.0001, 0.001, 0.01, 0.1, 1, 10]}\n",
    "\n",
    "grid_search_gaussian_c = GridSearchCV(\n",
    "    estimator=gaussian_svm_clf,\n",
    "    param_grid=parameters,\n",
    "    scoring=\"accuracy\",\n",
    "    n_jobs=-1,\n",
    "    refit=\"accuracy\",\n",
    "    cv=kfold,\n",
    ")\n",
    "grid_search_gaussian_c.fit(X_train_filtered, y_train)\n",
    "svm_gaussian_model_c = grid_search_gaussian_c.best_estimator_.named_steps[\"svm\"]\n"
   ],
   "outputs": [],
   "execution_count": 965
  },
  {
   "cell_type": "code",
   "id": "eb0a718cb8e77217",
   "metadata": {
    "ExecuteTime": {
     "end_time": "2025-05-11T12:28:24.432865Z",
     "start_time": "2025-05-11T12:28:24.429455Z"
    }
   },
   "source": [
    "# Metric evaluation\n",
    "n_support_vectors = svm_gaussian_model_c.support_vectors_.shape[0]\n",
    "support_per_class = svm_gaussian_model_c.n_support_\n",
    "best_score = grid_search_gaussian_c.best_score_\n",
    "best_params = grid_search_gaussian_c.best_params_\n",
    "\n",
    "# Crea un dizionario per la tabella\n",
    "svm_summary = {\n",
    "    \"Metric\": [\n",
    "        \"Total support vectors\",\n",
    "        \"Support vectors per class\",\n",
    "        \"Best CV score (accuracy)\",\n",
    "        \"Best hyperparameters\"\n",
    "    ],\n",
    "    \"Value\": [\n",
    "        n_support_vectors,\n",
    "        support_per_class.tolist(),\n",
    "        round(best_score, 3),\n",
    "        str(best_params)\n",
    "    ]\n",
    "}\n",
    "\n",
    "# Converti in DataFrame\n",
    "svm_df = pd.DataFrame(svm_summary)\n",
    "\n",
    "# Visualizza\n",
    "svm_df"
   ],
   "outputs": [
    {
     "data": {
      "text/plain": [
       "                      Metric                                Value\n",
       "0      Total support vectors                                   42\n",
       "1  Support vectors per class                             [22, 20]\n",
       "2   Best CV score (accuracy)                                0.871\n",
       "3       Best hyperparameters  {'svm__C': 10, 'svm__gamma': 0.001}"
      ],
      "text/html": [
       "<div>\n",
       "<style scoped>\n",
       "    .dataframe tbody tr th:only-of-type {\n",
       "        vertical-align: middle;\n",
       "    }\n",
       "\n",
       "    .dataframe tbody tr th {\n",
       "        vertical-align: top;\n",
       "    }\n",
       "\n",
       "    .dataframe thead th {\n",
       "        text-align: right;\n",
       "    }\n",
       "</style>\n",
       "<table border=\"1\" class=\"dataframe\">\n",
       "  <thead>\n",
       "    <tr style=\"text-align: right;\">\n",
       "      <th></th>\n",
       "      <th>Metric</th>\n",
       "      <th>Value</th>\n",
       "    </tr>\n",
       "  </thead>\n",
       "  <tbody>\n",
       "    <tr>\n",
       "      <th>0</th>\n",
       "      <td>Total support vectors</td>\n",
       "      <td>42</td>\n",
       "    </tr>\n",
       "    <tr>\n",
       "      <th>1</th>\n",
       "      <td>Support vectors per class</td>\n",
       "      <td>[22, 20]</td>\n",
       "    </tr>\n",
       "    <tr>\n",
       "      <th>2</th>\n",
       "      <td>Best CV score (accuracy)</td>\n",
       "      <td>0.871</td>\n",
       "    </tr>\n",
       "    <tr>\n",
       "      <th>3</th>\n",
       "      <td>Best hyperparameters</td>\n",
       "      <td>{'svm__C': 10, 'svm__gamma': 0.001}</td>\n",
       "    </tr>\n",
       "  </tbody>\n",
       "</table>\n",
       "</div>"
      ]
     },
     "execution_count": 966,
     "metadata": {},
     "output_type": "execute_result"
    }
   ],
   "execution_count": 966
  },
  {
   "cell_type": "code",
   "id": "5491b905898bae8c",
   "metadata": {
    "ExecuteTime": {
     "end_time": "2025-05-11T12:28:24.476436Z",
     "start_time": "2025-05-11T12:28:24.472989Z"
    }
   },
   "source": [
    "## Predictions\n",
    "y_pred_rbf_c = grid_search_gaussian_c.predict(X_test_filtered)\n",
    "y_pred_proba_rbf_c = grid_search_gaussian_c.predict_proba(X_test_filtered)[:, 1]"
   ],
   "outputs": [],
   "execution_count": 967
  },
  {
   "cell_type": "code",
   "id": "4df74f0aea59c341",
   "metadata": {
    "ExecuteTime": {
     "end_time": "2025-05-11T12:28:24.497148Z",
     "start_time": "2025-05-11T12:28:24.494908Z"
    }
   },
   "source": [
    "## Evaluation\n",
    "from sklearn.metrics import confusion_matrix\n",
    "cm_svm_gaussian_model_c = confusion_matrix(y_test, y_pred_rbf_c)\n"
   ],
   "outputs": [],
   "execution_count": 968
  },
  {
   "cell_type": "markdown",
   "id": "9c9e64e5c2ca59bc",
   "metadata": {},
   "source": [
    "#### Comparison model"
   ]
  },
  {
   "cell_type": "code",
   "id": "23e308b7255d1219",
   "metadata": {
    "ExecuteTime": {
     "end_time": "2025-05-11T12:28:24.569825Z",
     "start_time": "2025-05-11T12:28:24.529964Z"
    }
   },
   "source": [
    "from sklearn.metrics import roc_curve, auc\n",
    "import matplotlib.pyplot as plt\n",
    "\n",
    "# Calcolo delle curve ROC e AUC\n",
    "fpr_linear, tpr_linear, _ = roc_curve(y_test, y_pred_proba_linear_c)\n",
    "roc_auc_linear = auc(fpr_linear, tpr_linear)\n",
    "\n",
    "fpr_poly, tpr_poly, _ = roc_curve(y_test, y_pred_proba_poly_c)\n",
    "roc_auc_poly = auc(fpr_poly, tpr_poly)\n",
    "\n",
    "fpr_rbf, tpr_rbf, _ = roc_curve(y_test, y_pred_proba_rbf_c)\n",
    "roc_auc_rbf = auc(fpr_rbf, tpr_rbf)\n",
    "\n",
    "# Plot ROC curve sovrapposte\n",
    "plt.figure()\n",
    "plt.plot(fpr_linear, tpr_linear, lw=2, label=f'Linear SVM (AUC = {roc_auc_linear:.2f})')\n",
    "plt.plot(fpr_poly, tpr_poly, lw=2, label=f'Poly SVM (AUC = {roc_auc_poly:.2f})')\n",
    "plt.plot(fpr_rbf, tpr_rbf, lw=2, label=f'RBF SVM (AUC = {roc_auc_rbf:.2f})')\n",
    "plt.plot([0, 1], [0, 1], color='gray', lw=2, linestyle='--')  # random classifier line\n",
    "\n",
    "# Layout\n",
    "plt.xlim([0.0, 1.0])\n",
    "plt.ylim([0.0, 1.05])\n",
    "plt.xlabel('False Positive Rate')\n",
    "plt.ylabel('True Positive Rate')\n",
    "plt.title('ROC Curve Comparison')\n",
    "plt.legend(loc=\"lower right\")\n",
    "plt.grid()\n",
    "plt.show()"
   ],
   "outputs": [
    {
     "data": {
      "text/plain": [
       "<Figure size 640x480 with 1 Axes>"
      ],
      "image/png": "[encoded data removed]"
     },
     "metadata": {},
     "output_type": "display_data"
    }
   ],
   "execution_count": 969
  },
  {
   "cell_type": "code",
   "id": "be591246633de6ca",
   "metadata": {
    "ExecuteTime": {
     "end_time": "2025-05-11T12:28:24.611588Z",
     "start_time": "2025-05-11T12:28:24.598420Z"
    }
   },
   "source": [
    "from sklearn.metrics import accuracy_score, roc_auc_score, precision_score, recall_score, f1_score\n",
    "import pandas as pd\n",
    "\n",
    "# Calcolo delle metriche per ciascun modello\n",
    "acc_linear = accuracy_score(y_test, y_pred_linear_c)\n",
    "acc_poly = accuracy_score(y_test, y_pred_poly_c)\n",
    "acc_rbf = accuracy_score(y_test, y_pred_rbf_c)\n",
    "\n",
    "roc_linear = roc_auc_score(y_test, y_pred_proba_linear_c)\n",
    "roc_poly = roc_auc_score(y_test, y_pred_proba_poly_c)\n",
    "roc_rbf = roc_auc_score(y_test, y_pred_proba_rbf_c)\n",
    "\n",
    "precision_linear = precision_score(y_test, y_pred_linear_c)\n",
    "precision_poly = precision_score(y_test, y_pred_poly_c)\n",
    "precision_rbf = precision_score(y_test, y_pred_rbf_c)\n",
    "\n",
    "recall_linear = recall_score(y_test, y_pred_linear_c)\n",
    "recall_poly = recall_score(y_test, y_pred_poly_c)\n",
    "recall_rbf = recall_score(y_test, y_pred_rbf_c)\n",
    "\n",
    "f1_linear = f1_score(y_test, y_pred_linear_c)\n",
    "f1_poly = f1_score(y_test, y_pred_poly_c)\n",
    "f1_rbf = f1_score(y_test, y_pred_rbf_c)\n",
    "\n",
    "# Creazione della tabella\n",
    "results_df = pd.DataFrame({\n",
    "    \"Model\": [\"Linear SVM\", \"Poly SVM\", \"RBF SVM\"],\n",
    "    \"Accuracy\": [acc_linear, acc_poly, acc_rbf],\n",
    "    \"ROC AUC\": [roc_linear, roc_poly, roc_rbf],\n",
    "    \"Precision\": [precision_linear, precision_poly, precision_rbf],\n",
    "    \"Recall\": [recall_linear, recall_poly, recall_rbf],\n",
    "    \"F1-score\": [f1_linear, f1_poly, f1_rbf]\n",
    "})\n",
    "\n",
    "# Visualizza la tabella\n",
    "pd.DataFrame(results_df)\n"
   ],
   "outputs": [
    {
     "data": {
      "text/plain": [
       "        Model  Accuracy   ROC AUC  Precision    Recall  F1-score\n",
       "0  Linear SVM    0.7500  0.857143        0.8  0.571429  0.666667\n",
       "1    Poly SVM    0.7500  0.857143        0.8  0.571429  0.666667\n",
       "2     RBF SVM    0.8125  0.825397        1.0  0.571429  0.727273"
      ],
      "text/html": [
       "<div>\n",
       "<style scoped>\n",
       "    .dataframe tbody tr th:only-of-type {\n",
       "        vertical-align: middle;\n",
       "    }\n",
       "\n",
       "    .dataframe tbody tr th {\n",
       "        vertical-align: top;\n",
       "    }\n",
       "\n",
       "    .dataframe thead th {\n",
       "        text-align: right;\n",
       "    }\n",
       "</style>\n",
       "<table border=\"1\" class=\"dataframe\">\n",
       "  <thead>\n",
       "    <tr style=\"text-align: right;\">\n",
       "      <th></th>\n",
       "      <th>Model</th>\n",
       "      <th>Accuracy</th>\n",
       "      <th>ROC AUC</th>\n",
       "      <th>Precision</th>\n",
       "      <th>Recall</th>\n",
       "      <th>F1-score</th>\n",
       "    </tr>\n",
       "  </thead>\n",
       "  <tbody>\n",
       "    <tr>\n",
       "      <th>0</th>\n",
       "      <td>Linear SVM</td>\n",
       "      <td>0.7500</td>\n",
       "      <td>0.857143</td>\n",
       "      <td>0.8</td>\n",
       "      <td>0.571429</td>\n",
       "      <td>0.666667</td>\n",
       "    </tr>\n",
       "    <tr>\n",
       "      <th>1</th>\n",
       "      <td>Poly SVM</td>\n",
       "      <td>0.7500</td>\n",
       "      <td>0.857143</td>\n",
       "      <td>0.8</td>\n",
       "      <td>0.571429</td>\n",
       "      <td>0.666667</td>\n",
       "    </tr>\n",
       "    <tr>\n",
       "      <th>2</th>\n",
       "      <td>RBF SVM</td>\n",
       "      <td>0.8125</td>\n",
       "      <td>0.825397</td>\n",
       "      <td>1.0</td>\n",
       "      <td>0.571429</td>\n",
       "      <td>0.727273</td>\n",
       "    </tr>\n",
       "  </tbody>\n",
       "</table>\n",
       "</div>"
      ]
     },
     "execution_count": 970,
     "metadata": {},
     "output_type": "execute_result"
    }
   ],
   "execution_count": 970
  },
  {
   "cell_type": "code",
   "id": "d215048f933939c2",
   "metadata": {
    "ExecuteTime": {
     "end_time": "2025-05-11T12:28:24.840960Z",
     "start_time": "2025-05-11T12:28:24.626518Z"
    }
   },
   "source": [
    "import matplotlib.pyplot as plt\n",
    "import seaborn as sns\n",
    "\n",
    "plt.figure(figsize=(15, 4))\n",
    "\n",
    "# Linear SVM\n",
    "plt.subplot(1, 3, 1)\n",
    "sns.heatmap(cm_grid_search_linear_c, annot=True, fmt='d', cmap='Blues')\n",
    "plt.title(\"Linear SVM\")\n",
    "plt.xlabel(\"Predicted\")\n",
    "plt.ylabel(\"True\")\n",
    "\n",
    "# Polynomial SVM\n",
    "plt.subplot(1, 3, 2)\n",
    "sns.heatmap(cm_svm_poly_model_c, annot=True, fmt='d', cmap='Blues')\n",
    "plt.title(\"Polynomial SVM\")\n",
    "plt.xlabel(\"Predicted\")\n",
    "plt.ylabel(\"\")\n",
    "\n",
    "# RBF/Gaussian SVM\n",
    "plt.subplot(1, 3, 3)\n",
    "sns.heatmap(cm_svm_gaussian_model_c, annot=True, fmt='d', cmap='Blues')\n",
    "plt.title(\"RBF SVM\")\n",
    "plt.xlabel(\"Predicted\")\n",
    "plt.ylabel(\"\")\n",
    "\n",
    "plt.suptitle(\"Confusion Matrix Comparison (Top 5% Genes)\", y=1.05)\n",
    "plt.tight_layout()\n",
    "plt.show()\n"
   ],
   "outputs": [
    {
     "data": {
      "text/plain": [
       "<Figure size 1500x400 with 6 Axes>"
      ],
      "image/png": "[encoded data removed]"
     },
     "metadata": {},
     "output_type": "display_data"
    }
   ],
   "execution_count": 971
  }
 ],
 "metadata": {
  "kernelspec": {
   "display_name": "Python 3 (ipykernel)",
   "language": "python",
   "name": "python3"
  },
  "language_info": {
   "codemirror_mode": {
    "name": "ipython",
    "version": 3
   },
   "file_extension": ".py",
   "mimetype": "text/x-python",
   "name": "python",
   "nbconvert_exporter": "python",
   "pygments_lexer": "ipython3",
   "version": "3.13.0"
  }
 },
 "nbformat": 4,
 "nbformat_minor": 5
}
